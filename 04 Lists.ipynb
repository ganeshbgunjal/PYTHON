{
 "cells": [
  {
   "cell_type": "markdown",
   "id": "ead91e7e",
   "metadata": {},
   "source": [
    "### List"
   ]
  },
  {
   "cell_type": "markdown",
   "id": "7d1855f2",
   "metadata": {},
   "source": [
    "list is a data structure use for storing values of any type like int float string.. <br>\n",
    "arrays of other languages are the lists in python."
   ]
  },
  {
   "cell_type": "code",
   "execution_count": 2,
   "id": "6453a355",
   "metadata": {},
   "outputs": [],
   "source": [
    "names = ['ganesh','dilip','amol']   #names of family members\n",
    "fruits = ['mangoes','apples','bananas','pineapples']"
   ]
  },
  {
   "cell_type": "code",
   "execution_count": 4,
   "id": "40cf9b75",
   "metadata": {},
   "outputs": [
    {
     "data": {
      "text/plain": [
       "['ganesh', 'dilip', 'amol']"
      ]
     },
     "execution_count": 4,
     "metadata": {},
     "output_type": "execute_result"
    }
   ],
   "source": [
    "names"
   ]
  },
  {
   "cell_type": "code",
   "execution_count": 5,
   "id": "400405ed",
   "metadata": {},
   "outputs": [
    {
     "data": {
      "text/plain": [
       "['mangoes', 'apples', 'bananas', 'pineapples']"
      ]
     },
     "execution_count": 5,
     "metadata": {},
     "output_type": "execute_result"
    }
   ],
   "source": [
    "fruits"
   ]
  },
  {
   "cell_type": "code",
   "execution_count": 6,
   "id": "8b506653",
   "metadata": {},
   "outputs": [],
   "source": [
    "marks=[90,80,87,89,93]"
   ]
  },
  {
   "cell_type": "code",
   "execution_count": 14,
   "id": "6f511f65",
   "metadata": {},
   "outputs": [
    {
     "name": "stdout",
     "output_type": "stream",
     "text": [
      "index 0 value 90\n",
      "index 1 value 80\n",
      "index 2 value 87\n",
      "index 3 value 89\n",
      "index 4 value 93\n"
     ]
    }
   ],
   "source": [
    "for index,value in enumerate(marks):\n",
    "    print('index',index,'value',value)"
   ]
  },
  {
   "cell_type": "code",
   "execution_count": 15,
   "id": "7f0d6aae",
   "metadata": {},
   "outputs": [
    {
     "name": "stdout",
     "output_type": "stream",
     "text": [
      "<class 'list'>\n"
     ]
    }
   ],
   "source": [
    "print(type(marks))"
   ]
  },
  {
   "cell_type": "code",
   "execution_count": 18,
   "id": "3830ba60",
   "metadata": {},
   "outputs": [
    {
     "name": "stdout",
     "output_type": "stream",
     "text": [
      "90\n",
      "80\n"
     ]
    }
   ],
   "source": [
    "# accessing the element\n",
    "print(marks[0])\n",
    "print(marks[1])"
   ]
  },
  {
   "cell_type": "code",
   "execution_count": 19,
   "id": "fc983dfe",
   "metadata": {},
   "outputs": [],
   "source": [
    "marks[2]=50   #item assignment is allowed. strings doesnt allow item assignment."
   ]
  },
  {
   "cell_type": "code",
   "execution_count": 20,
   "id": "baf9762a",
   "metadata": {},
   "outputs": [
    {
     "data": {
      "text/plain": [
       "[90, 80, 50, 89, 93]"
      ]
     },
     "execution_count": 20,
     "metadata": {},
     "output_type": "execute_result"
    }
   ],
   "source": [
    "marks"
   ]
  },
  {
   "cell_type": "code",
   "execution_count": 21,
   "id": "a4f89d6c",
   "metadata": {},
   "outputs": [
    {
     "data": {
      "text/plain": [
       "[80, 50, 89]"
      ]
     },
     "execution_count": 21,
     "metadata": {},
     "output_type": "execute_result"
    }
   ],
   "source": [
    "marks[1:4]   #lists slicing"
   ]
  },
  {
   "cell_type": "code",
   "execution_count": 24,
   "id": "5089319c",
   "metadata": {},
   "outputs": [
    {
     "data": {
      "text/plain": [
       "[80, 50, 89]"
      ]
     },
     "execution_count": 24,
     "metadata": {},
     "output_type": "execute_result"
    }
   ],
   "source": [
    "marks[-4:-1]"
   ]
  },
  {
   "cell_type": "markdown",
   "id": "c382de7f",
   "metadata": {},
   "source": [
    "### List Methods"
   ]
  },
  {
   "cell_type": "code",
   "execution_count": 25,
   "id": "6cad0d67",
   "metadata": {},
   "outputs": [
    {
     "data": {
      "text/plain": [
       "[90, 80, 50, 89, 93]"
      ]
     },
     "execution_count": 25,
     "metadata": {},
     "output_type": "execute_result"
    }
   ],
   "source": [
    "marks"
   ]
  },
  {
   "cell_type": "code",
   "execution_count": 26,
   "id": "da7da263",
   "metadata": {},
   "outputs": [],
   "source": [
    "marks.append(94)   #94 is added at last index.. append means add at the last."
   ]
  },
  {
   "cell_type": "code",
   "execution_count": 27,
   "id": "9327ea98",
   "metadata": {},
   "outputs": [
    {
     "data": {
      "text/plain": [
       "[90, 80, 50, 89, 93, 94]"
      ]
     },
     "execution_count": 27,
     "metadata": {},
     "output_type": "execute_result"
    }
   ],
   "source": [
    "marks"
   ]
  },
  {
   "cell_type": "code",
   "execution_count": 28,
   "id": "2071fb69",
   "metadata": {},
   "outputs": [],
   "source": [
    "marks.sort()"
   ]
  },
  {
   "cell_type": "code",
   "execution_count": 29,
   "id": "906f378b",
   "metadata": {},
   "outputs": [
    {
     "data": {
      "text/plain": [
       "[50, 80, 89, 90, 93, 94]"
      ]
     },
     "execution_count": 29,
     "metadata": {},
     "output_type": "execute_result"
    }
   ],
   "source": [
    "marks"
   ]
  },
  {
   "cell_type": "code",
   "execution_count": 30,
   "id": "1c1f076d",
   "metadata": {},
   "outputs": [],
   "source": [
    "marks.sort(reverse=True)"
   ]
  },
  {
   "cell_type": "code",
   "execution_count": 31,
   "id": "b72b8327",
   "metadata": {},
   "outputs": [
    {
     "data": {
      "text/plain": [
       "[94, 93, 90, 89, 80, 50]"
      ]
     },
     "execution_count": 31,
     "metadata": {},
     "output_type": "execute_result"
    }
   ],
   "source": [
    "marks"
   ]
  },
  {
   "cell_type": "code",
   "execution_count": 32,
   "id": "eafef8cb",
   "metadata": {},
   "outputs": [],
   "source": [
    "marks.insert(3,99)"
   ]
  },
  {
   "cell_type": "code",
   "execution_count": 33,
   "id": "b9948f68",
   "metadata": {},
   "outputs": [
    {
     "data": {
      "text/plain": [
       "[94, 93, 90, 99, 89, 80, 50]"
      ]
     },
     "execution_count": 33,
     "metadata": {},
     "output_type": "execute_result"
    }
   ],
   "source": [
    "marks   # 99 is inserted at 3rd lacation and rest of elements are adjusted."
   ]
  },
  {
   "cell_type": "code",
   "execution_count": 34,
   "id": "8e424a2b",
   "metadata": {},
   "outputs": [],
   "source": [
    "marks.reverse()    # reversed whole list"
   ]
  },
  {
   "cell_type": "code",
   "execution_count": 35,
   "id": "7b48ceed",
   "metadata": {},
   "outputs": [
    {
     "data": {
      "text/plain": [
       "[50, 80, 89, 99, 90, 93, 94]"
      ]
     },
     "execution_count": 35,
     "metadata": {},
     "output_type": "execute_result"
    }
   ],
   "source": [
    "marks"
   ]
  },
  {
   "cell_type": "code",
   "execution_count": 36,
   "id": "da010337",
   "metadata": {},
   "outputs": [],
   "source": [
    "marks.remove(80)   #it will delete 80 at firstoccurances.. it removes element."
   ]
  },
  {
   "cell_type": "code",
   "execution_count": 37,
   "id": "6556d103",
   "metadata": {},
   "outputs": [
    {
     "data": {
      "text/plain": [
       "[50, 89, 99, 90, 93, 94]"
      ]
     },
     "execution_count": 37,
     "metadata": {},
     "output_type": "execute_result"
    }
   ],
   "source": [
    "marks"
   ]
  },
  {
   "cell_type": "code",
   "execution_count": 38,
   "id": "ed3ae8f9",
   "metadata": {},
   "outputs": [
    {
     "data": {
      "text/plain": [
       "94"
      ]
     },
     "execution_count": 38,
     "metadata": {},
     "output_type": "execute_result"
    }
   ],
   "source": [
    "marks.pop()   #it removes elements from last position.. this method takes index to remove."
   ]
  },
  {
   "cell_type": "code",
   "execution_count": 39,
   "id": "34e26df9",
   "metadata": {},
   "outputs": [
    {
     "data": {
      "text/plain": [
       "[50, 89, 99, 90, 93]"
      ]
     },
     "execution_count": 39,
     "metadata": {},
     "output_type": "execute_result"
    }
   ],
   "source": [
    "marks"
   ]
  },
  {
   "cell_type": "code",
   "execution_count": 40,
   "id": "4da3765f",
   "metadata": {},
   "outputs": [],
   "source": [
    "math_marks = marks.copy()   #copied all marks from marks to math marks"
   ]
  },
  {
   "cell_type": "code",
   "execution_count": 41,
   "id": "8f382616",
   "metadata": {},
   "outputs": [
    {
     "data": {
      "text/plain": [
       "[50, 89, 99, 90, 93]"
      ]
     },
     "execution_count": 41,
     "metadata": {},
     "output_type": "execute_result"
    }
   ],
   "source": [
    "math_marks"
   ]
  },
  {
   "cell_type": "code",
   "execution_count": 45,
   "id": "e63891c5",
   "metadata": {},
   "outputs": [],
   "source": [
    "math_marks.append(50)"
   ]
  },
  {
   "cell_type": "code",
   "execution_count": 46,
   "id": "1013b962",
   "metadata": {},
   "outputs": [
    {
     "data": {
      "text/plain": [
       "2"
      ]
     },
     "execution_count": 46,
     "metadata": {},
     "output_type": "execute_result"
    }
   ],
   "source": [
    "math_marks.count(50)   #checks occurances of an element"
   ]
  },
  {
   "cell_type": "code",
   "execution_count": null,
   "id": "ca2c5477",
   "metadata": {},
   "outputs": [],
   "source": []
  }
 ],
 "metadata": {
  "kernelspec": {
   "display_name": "Python 3 (ipykernel)",
   "language": "python",
   "name": "python3"
  },
  "language_info": {
   "codemirror_mode": {
    "name": "ipython",
    "version": 3
   },
   "file_extension": ".py",
   "mimetype": "text/x-python",
   "name": "python",
   "nbconvert_exporter": "python",
   "pygments_lexer": "ipython3",
   "version": "3.9.12"
  }
 },
 "nbformat": 4,
 "nbformat_minor": 5
}
