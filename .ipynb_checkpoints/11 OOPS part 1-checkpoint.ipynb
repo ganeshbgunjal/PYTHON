{
 "cells": [
  {
   "cell_type": "markdown",
   "id": "3b975d39",
   "metadata": {},
   "source": [
    "### OOPS:-"
   ]
  },
  {
   "cell_type": "markdown",
   "id": "1cab7331",
   "metadata": {},
   "source": [
    "OOP (Object-Oriented Programming) in Python is a programming paradigm that uses \"objects\" to design and build applications. It helps in organizing code by bundling related properties and behaviors into individual objects. Python, as an object-oriented language, supports OOP concepts like classes, objects, inheritance, polymorphism, encapsulation, and abstraction. Here's a breakdown of these key concepts:"
   ]
  },
  {
   "cell_type": "markdown",
   "id": "faf7d29e",
   "metadata": {},
   "source": [
    "first we were doing procedural programming where we write code sequencially. then we started function based programming. where we increased code reusability and decrease code redundacy. then we started object oriented programming where we make small objects of the class. "
   ]
  },
  {
   "cell_type": "markdown",
   "id": "2dd6944e",
   "metadata": {},
   "source": [
    "### Classes and Objects:\n",
    "\n",
    "### Class: \n",
    "A blueprint for creating objects. It defines a set of attributes (variables) and methods (functions) that the objects created from the class can use.\n",
    "\n",
    "### Object:\n",
    "An instance of a class. Each object can have its own attributes and methods.\n",
    "py"
   ]
  },
  {
   "cell_type": "code",
   "execution_count": 5,
   "id": "5f30b9ee",
   "metadata": {},
   "outputs": [],
   "source": [
    "class stduent:      #class name starts with capital letter. as a good programmer.\n",
    "#     then its name, surname age roll number and other stuff will be its objects\n",
    "    pass\n",
    "class BankAccount:\n",
    "    pass\n",
    "class Car:\n",
    "    pass\n",
    "    "
   ]
  },
  {
   "cell_type": "markdown",
   "id": "fd427637",
   "metadata": {},
   "source": [
    "first class is created and then object is created in that class."
   ]
  },
  {
   "cell_type": "code",
   "execution_count": 7,
   "id": "c4252050",
   "metadata": {},
   "outputs": [
    {
     "name": "stdout",
     "output_type": "stream",
     "text": [
      "Ganesh Gunjal\n"
     ]
    }
   ],
   "source": [
    "class Student:          #class \n",
    "    name = 'Ganesh Gunjal'\n",
    "\n",
    "s1 = Student()        #class instance, s1 is object.\n",
    "print(s1.name)\n",
    "    "
   ]
  },
  {
   "cell_type": "code",
   "execution_count": 17,
   "id": "9e94601d",
   "metadata": {},
   "outputs": [
    {
     "name": "stdout",
     "output_type": "stream",
     "text": [
      "Car1 Color is: Red\n",
      "Car1 Brand is: Mercedes\n",
      "Car2 Color is: Red\n",
      "Car2 Brand is: Mercedes\n"
     ]
    }
   ],
   "source": [
    "class Car:\n",
    "    color = 'Red'\n",
    "    brand = 'Mercedes'\n",
    "\n",
    "car1 = Car()\n",
    "print(f'Car1 Color is: {car1.color}')\n",
    "print(f'Car1 Brand is: {car1.brand}')\n",
    "\n",
    "car2 = Car()\n",
    "print(f'Car2 Color is: {car2.color}')\n",
    "print(f'Car2 Brand is: {car2.brand}')"
   ]
  },
  {
   "cell_type": "code",
   "execution_count": null,
   "id": "789ed11d",
   "metadata": {
    "collapsed": true
   },
   "outputs": [],
   "source": []
  }
 ],
 "metadata": {
  "kernelspec": {
   "display_name": "Python 3 (ipykernel)",
   "language": "python",
   "name": "python3"
  },
  "language_info": {
   "codemirror_mode": {
    "name": "ipython",
    "version": 3
   },
   "file_extension": ".py",
   "mimetype": "text/x-python",
   "name": "python",
   "nbconvert_exporter": "python",
   "pygments_lexer": "ipython3",
   "version": "3.9.12"
  }
 },
 "nbformat": 4,
 "nbformat_minor": 5
}
