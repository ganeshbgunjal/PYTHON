{
 "cells": [
  {
   "cell_type": "markdown",
   "id": "b503832c",
   "metadata": {},
   "source": [
    "### Files:-- \n",
    "Python is used for writing and reading operations on the file. it also contains delete and update of data."
   ]
  },
  {
   "cell_type": "markdown",
   "id": "6dc71e75",
   "metadata": {},
   "source": [
    "### Types of file:-  <br>"
   ]
  },
  {
   "cell_type": "markdown",
   "id": "c8453874",
   "metadata": {},
   "source": [
    "**1) Text files:--**  this contains .txt, .doc, .log files   <br>\n",
    "**2) Binary files:-** this file contains .mp4, .mov, .png, .jpef files"
   ]
  },
  {
   "cell_type": "markdown",
   "id": "617df4fc",
   "metadata": {},
   "source": [
    "#### Open Read and Close File:--  we have open file before read and write. <br>\n",
    "f = open('file name', 'mode')       <br> \n",
    "by default mode is ''read''"
   ]
  },
  {
   "cell_type": "code",
   "execution_count": 1,
   "id": "a6f8159e",
   "metadata": {},
   "outputs": [
    {
     "name": "stdout",
     "output_type": "stream",
     "text": [
      "this is file is for learning file operations like read write. \n",
      "this is using python.\n"
     ]
    }
   ],
   "source": [
    "f = open('sample.txt')\n",
    "data = f.read()\n",
    "print(data)\n",
    "f.close()\n",
    "#file is present in same folder, thats why no need of giving path. \n",
    "# if file is present in other folder then we have to give complete path."
   ]
  },
  {
   "cell_type": "code",
   "execution_count": 2,
   "id": "665a3dbb",
   "metadata": {},
   "outputs": [
    {
     "name": "stdout",
     "output_type": "stream",
     "text": [
      "this is file is for learning file operations like read write. \n",
      "\n"
     ]
    }
   ],
   "source": [
    "f = open('sample.txt')\n",
    "line1 = f.readline()     # it will read first line\n",
    "print(line1)\n",
    "# f.close()"
   ]
  },
  {
   "cell_type": "code",
   "execution_count": 3,
   "id": "72b89555",
   "metadata": {},
   "outputs": [
    {
     "name": "stdout",
     "output_type": "stream",
     "text": [
      "this is using python.\n"
     ]
    }
   ],
   "source": [
    "line2 = f.readline()\n",
    "print(line2)"
   ]
  },
  {
   "cell_type": "markdown",
   "id": "77339a14",
   "metadata": {},
   "source": [
    "### Modes:--             <br>   \n",
    "1) 'r':-- for reading a file       <br>\n",
    "2) 'w':-- for writing a file      <br>\n",
    "3) 'x':-- create new file for writing       <br>\n",
    "4) 'a':- open new file and write data at the end if exists     <br>\n",
    "5) 'b':-- binary file          <br>\n",
    "6) 't':-- text file\n"
   ]
  },
  {
   "cell_type": "markdown",
   "id": "1b95c7d4",
   "metadata": {},
   "source": [
    "### Writing to file:--"
   ]
  },
  {
   "cell_type": "code",
   "execution_count": 4,
   "id": "c4b82279",
   "metadata": {},
   "outputs": [],
   "source": [
    "f = open('demo.txt','w')\n",
    "f.write('I have to learn machine learning to become data scientist')\n",
    "f.close()"
   ]
  },
  {
   "cell_type": "code",
   "execution_count": 5,
   "id": "f5f4e40a",
   "metadata": {},
   "outputs": [
    {
     "data": {
      "text/plain": [
       "'I have to learn machine learning to become data scientist'"
      ]
     },
     "execution_count": 5,
     "metadata": {},
     "output_type": "execute_result"
    }
   ],
   "source": [
    "f = open('demo.txt')\n",
    "f.read()"
   ]
  },
  {
   "cell_type": "code",
   "execution_count": 6,
   "id": "641a223e",
   "metadata": {},
   "outputs": [],
   "source": [
    "f = open('demo.txt','a')\n",
    "f.write('competition is so tough. you will have work very hard like 16 hrs a day. as harkirat said')\n",
    "f.close()"
   ]
  },
  {
   "cell_type": "code",
   "execution_count": 7,
   "id": "d8a7fb8b",
   "metadata": {},
   "outputs": [
    {
     "data": {
      "text/plain": [
       "'I have to learn machine learning to become data scientistcompetition is so tough. you will have work very hard like 16 hrs a day. as harkirat said'"
      ]
     },
     "execution_count": 7,
     "metadata": {},
     "output_type": "execute_result"
    }
   ],
   "source": [
    "f = open('demo.txt')\n",
    "f.read()"
   ]
  },
  {
   "cell_type": "code",
   "execution_count": 8,
   "id": "1541e951",
   "metadata": {},
   "outputs": [],
   "source": [
    "f = open('new_sample.txt','w')\n",
    "f.write('this is again new file for learning file input and output operations. \\nlearn this from heart.')\n",
    "f.close()"
   ]
  },
  {
   "cell_type": "code",
   "execution_count": 9,
   "id": "b3e2d191",
   "metadata": {},
   "outputs": [
    {
     "data": {
      "text/plain": [
       "'this is again new file for learning file input and output operations. \\nlearn this from heart.'"
      ]
     },
     "execution_count": 9,
     "metadata": {},
     "output_type": "execute_result"
    }
   ],
   "source": [
    "f = open('new_sample.txt')\n",
    "f.read()"
   ]
  },
  {
   "cell_type": "markdown",
   "id": "2a6a3f1e",
   "metadata": {},
   "source": [
    "r+ is also mode.. here file is rewrite and data is added at starting. not like aapend mode... in append mode data is \n",
    "added at the last."
   ]
  },
  {
   "cell_type": "markdown",
   "id": "93c5a7b3",
   "metadata": {},
   "source": [
    "we have one more format for reading file."
   ]
  },
  {
   "cell_type": "code",
   "execution_count": 10,
   "id": "d377abb3",
   "metadata": {},
   "outputs": [
    {
     "name": "stdout",
     "output_type": "stream",
     "text": [
      "this is again new file for learning file input and output operations. \n",
      "learn this from heart.\n"
     ]
    }
   ],
   "source": [
    "with open('new_sample.txt','r') as f:      #also with syntax automaticlly closes the file.\n",
    "    data = f.read()\n",
    "    print(data)"
   ]
  },
  {
   "cell_type": "markdown",
   "id": "61a1c67e",
   "metadata": {},
   "source": [
    "### Deleting the file"
   ]
  },
  {
   "cell_type": "markdown",
   "id": "903b840b",
   "metadata": {},
   "source": [
    "## Module:-- \n",
    "module is a library written by another programmer to perform specific task. for using that module, we need to import that \n",
    "module. "
   ]
  },
  {
   "cell_type": "code",
   "execution_count": 11,
   "id": "d18db8a7",
   "metadata": {},
   "outputs": [],
   "source": [
    "import os"
   ]
  },
  {
   "cell_type": "code",
   "execution_count": 12,
   "id": "e0c5faf6",
   "metadata": {},
   "outputs": [],
   "source": [
    "os.remove('demo.txt')   #file is deleted."
   ]
  },
  {
   "cell_type": "markdown",
   "id": "0b61a35a",
   "metadata": {},
   "source": [
    "### Practice questions"
   ]
  },
  {
   "cell_type": "markdown",
   "id": "85d7093d",
   "metadata": {},
   "source": [
    "create a new file 'practice.txt' using python. add following data in it."
   ]
  },
  {
   "cell_type": "code",
   "execution_count": 13,
   "id": "d88609a6",
   "metadata": {},
   "outputs": [],
   "source": [
    "with open('practice.txt','w') as f:\n",
    "    data = f.write('Hi everyone. \\nWe are learning I/O. \\nUsing python. \\nI like python programming')\n",
    "    "
   ]
  },
  {
   "cell_type": "code",
   "execution_count": 14,
   "id": "2f65e13c",
   "metadata": {},
   "outputs": [
    {
     "name": "stdout",
     "output_type": "stream",
     "text": [
      "Hi everyone. \n",
      "We are learning I/O. \n",
      "Using python. \n",
      "I like python programming\n"
     ]
    }
   ],
   "source": [
    "with open('practice.txt') as f:\n",
    "    data = f.read()\n",
    "    print(data)"
   ]
  },
  {
   "cell_type": "markdown",
   "id": "9d03e0ee",
   "metadata": {},
   "source": [
    "WAP to replace all java words with python"
   ]
  },
  {
   "cell_type": "code",
   "execution_count": 15,
   "id": "d7838dc1",
   "metadata": {},
   "outputs": [
    {
     "name": "stdout",
     "output_type": "stream",
     "text": [
      "Hi everyone. \n",
      "We are learning I/O. \n",
      "Using python. \n",
      "I like python programming\n"
     ]
    }
   ],
   "source": [
    "with open('practice.txt','r') as f:\n",
    "    data = f.read()\n",
    "new_data = data.replace('Java','Python')\n",
    "print(new_data)"
   ]
  },
  {
   "cell_type": "markdown",
   "id": "955c70d2",
   "metadata": {},
   "source": [
    "WAF to search word in file"
   ]
  },
  {
   "cell_type": "code",
   "execution_count": 16,
   "id": "cdb5b2ca",
   "metadata": {},
   "outputs": [
    {
     "name": "stdout",
     "output_type": "stream",
     "text": [
      "Word found\n"
     ]
    }
   ],
   "source": [
    "word = 'learning'\n",
    "with open('practice.txt','r') as f:\n",
    "    data = f.read()\n",
    "    if (data.find(word)!=-1):\n",
    "        print('Word found')\n",
    "    else:\n",
    "        print('Not found')"
   ]
  },
  {
   "cell_type": "code",
   "execution_count": 17,
   "id": "fb42b3a8",
   "metadata": {},
   "outputs": [],
   "source": [
    "def searchWord():\n",
    "    word = 'machine learning'\n",
    "    with open('practice.txt','r') as f:\n",
    "        data = f.read()\n",
    "        if (data.find(word)!=-1):     #means if dont find any other index.\n",
    "            print('Found')\n",
    "        else:\n",
    "            print('Not found')"
   ]
  },
  {
   "cell_type": "code",
   "execution_count": 18,
   "id": "aa80386c",
   "metadata": {},
   "outputs": [
    {
     "name": "stdout",
     "output_type": "stream",
     "text": [
      "Not found\n"
     ]
    }
   ],
   "source": [
    "searchWord()   #means word not found."
   ]
  },
  {
   "cell_type": "markdown",
   "id": "bbcbd6d5",
   "metadata": {},
   "source": [
    "WAF to find in which line of the file does the word \"learning\" occur first. Print -1 if not found."
   ]
  },
  {
   "cell_type": "code",
   "execution_count": 19,
   "id": "65b0b5a1",
   "metadata": {},
   "outputs": [],
   "source": [
    "def check_for_line():\n",
    "    word = 'programming'\n",
    "    data = True     # initially we assign value as true. \n",
    "    line_no = 1\n",
    "    with open('practice.txt','r') as f:\n",
    "        while data: \n",
    "            data = f.readline()    #We want line number, that why used readline().\n",
    "            if (word in data):\n",
    "                print(line_no)\n",
    "                return\n",
    "            line_no+=1\n",
    "    return -1    #if wrod is not found,then return -1 "
   ]
  },
  {
   "cell_type": "code",
   "execution_count": 20,
   "id": "3fc09166",
   "metadata": {},
   "outputs": [
    {
     "name": "stdout",
     "output_type": "stream",
     "text": [
      "4\n"
     ]
    }
   ],
   "source": [
    "check_for_line()   # ans is right."
   ]
  },
  {
   "cell_type": "markdown",
   "id": "7183f195",
   "metadata": {},
   "source": [
    "From a file containing the numbers separated by comma, print the count of even numbers"
   ]
  },
  {
   "cell_type": "code",
   "execution_count": 30,
   "id": "0021e12c",
   "metadata": {},
   "outputs": [
    {
     "name": "stdout",
     "output_type": "stream",
     "text": [
      "1,2,76,84,90,101\n",
      "1\n",
      "2\n",
      "76\n",
      "84\n",
      "90\n"
     ]
    }
   ],
   "source": [
    "with open('even.txt') as f:\n",
    "    data = f.read()\n",
    "    print(data)\n",
    "    num = \"\"\n",
    "    for i in range(len(data)):\n",
    "        if (data[i]==\",\"):\n",
    "            print(num)\n",
    "            num = \"\"\n",
    "        else:\n",
    "            num+=data[i]\n",
    "\n",
    "# this is the way of printing numbers from string in file"
   ]
  },
  {
   "cell_type": "code",
   "execution_count": 31,
   "id": "6162593d",
   "metadata": {},
   "outputs": [
    {
     "name": "stdout",
     "output_type": "stream",
     "text": [
      "4\n"
     ]
    }
   ],
   "source": [
    "count = 0\n",
    "with open('even.txt') as f:\n",
    "    data = f.read()\n",
    "    nums = data.split(\",\")\n",
    "    for val in nums:\n",
    "        if (int(val) %2==0):\n",
    "            count+=1\n",
    "print(count)\n",
    "        "
   ]
  },
  {
   "cell_type": "code",
   "execution_count": null,
   "id": "dbbcfa62",
   "metadata": {},
   "outputs": [],
   "source": []
  }
 ],
 "metadata": {
  "kernelspec": {
   "display_name": "Python 3 (ipykernel)",
   "language": "python",
   "name": "python3"
  },
  "language_info": {
   "codemirror_mode": {
    "name": "ipython",
    "version": 3
   },
   "file_extension": ".py",
   "mimetype": "text/x-python",
   "name": "python",
   "nbconvert_exporter": "python",
   "pygments_lexer": "ipython3",
   "version": "3.9.12"
  }
 },
 "nbformat": 4,
 "nbformat_minor": 5
}
