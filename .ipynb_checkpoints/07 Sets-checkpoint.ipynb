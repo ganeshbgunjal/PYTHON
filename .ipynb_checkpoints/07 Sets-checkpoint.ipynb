{
 "cells": [
  {
   "cell_type": "markdown",
   "id": "c721d49b",
   "metadata": {},
   "source": [
    "## Sets"
   ]
  },
  {
   "cell_type": "markdown",
   "id": "3a86a692",
   "metadata": {},
   "source": [
    "its collection of unordered items. each element in the set is immutable and unique. it ignores duplicate values. <br>\n",
    "sets are mutable means we can add/remove element but we cant change values once value is added."
   ]
  },
  {
   "cell_type": "code",
   "execution_count": 14,
   "id": "4fd21c45",
   "metadata": {},
   "outputs": [
    {
     "name": "stdout",
     "output_type": "stream",
     "text": [
      "{1, 2, 3, 5, 6, 'world'}\n"
     ]
    }
   ],
   "source": [
    "collection = {1,1,2,3,5,6,\"world\",'world'}\n",
    "print(collection)    #duplicates elements are removed. "
   ]
  },
  {
   "cell_type": "code",
   "execution_count": 15,
   "id": "a47e1b34",
   "metadata": {},
   "outputs": [
    {
     "name": "stdout",
     "output_type": "stream",
     "text": [
      "6\n"
     ]
    }
   ],
   "source": [
    "print(len(collection))   #there are 8 items in the collection still it is giving 6. because of duplication. "
   ]
  },
  {
   "cell_type": "code",
   "execution_count": 2,
   "id": "d385edf3",
   "metadata": {},
   "outputs": [],
   "source": [
    "set1 = {1,2,3,4,5,6}"
   ]
  },
  {
   "cell_type": "code",
   "execution_count": 3,
   "id": "f45f2274",
   "metadata": {},
   "outputs": [
    {
     "name": "stdout",
     "output_type": "stream",
     "text": [
      "<class 'set'>\n",
      "{1, 2, 3, 4, 5, 6}\n"
     ]
    }
   ],
   "source": [
    "print(type(set1))\n",
    "print(set1)"
   ]
  },
  {
   "cell_type": "code",
   "execution_count": 6,
   "id": "7f814e84",
   "metadata": {},
   "outputs": [
    {
     "name": "stdout",
     "output_type": "stream",
     "text": [
      "<class 'set'>\n",
      "{'pallavi', 'data scientist', 'ganesh', 'stuti'}\n"
     ]
    }
   ],
   "source": [
    "set2 = {'ganesh','data scientist','stuti','pallavi'}\n",
    "print(type(set2))\n",
    "print(set2)"
   ]
  },
  {
   "cell_type": "code",
   "execution_count": 7,
   "id": "52b5bdfe",
   "metadata": {},
   "outputs": [],
   "source": [
    "set1 = {1,2,3,4,5}\n",
    "set2 = {4,5,6,7,8}"
   ]
  },
  {
   "cell_type": "code",
   "execution_count": 8,
   "id": "ac609547",
   "metadata": {},
   "outputs": [
    {
     "name": "stdout",
     "output_type": "stream",
     "text": [
      "{1, 2, 3, 4, 5}\n",
      "{4, 5, 6, 7, 8}\n"
     ]
    }
   ],
   "source": [
    "print(set1)\n",
    "print(set2)"
   ]
  },
  {
   "cell_type": "markdown",
   "id": "f1b3df76",
   "metadata": {},
   "source": [
    "### Set Methods"
   ]
  },
  {
   "cell_type": "code",
   "execution_count": 17,
   "id": "10d4892e",
   "metadata": {},
   "outputs": [
    {
     "name": "stdout",
     "output_type": "stream",
     "text": [
      "{1, 2, 3, 4, 5}\n"
     ]
    }
   ],
   "source": [
    "# 1 add:-- adding element in the set\n",
    "s1= {1,2,3,4,4}\n",
    "s1.add(5)\n",
    "print(s1)   #removed duplicate entry. ie 4."
   ]
  },
  {
   "cell_type": "code",
   "execution_count": 18,
   "id": "cedf1203",
   "metadata": {},
   "outputs": [
    {
     "name": "stdout",
     "output_type": "stream",
     "text": [
      "{1, 2, 3, 5}\n"
     ]
    }
   ],
   "source": [
    "# 2 remove an element.\n",
    "s1.remove(4)\n",
    "print(s1)"
   ]
  },
  {
   "cell_type": "code",
   "execution_count": 19,
   "id": "f1c5dfb4",
   "metadata": {},
   "outputs": [
    {
     "name": "stdout",
     "output_type": "stream",
     "text": [
      "set()\n"
     ]
    }
   ],
   "source": [
    "# 3 Clear:--- clear all element in the set\n",
    "s1.clear()\n",
    "print(s1)"
   ]
  },
  {
   "cell_type": "code",
   "execution_count": 21,
   "id": "da1b02d7",
   "metadata": {},
   "outputs": [
    {
     "data": {
      "text/plain": [
       "1"
      ]
     },
     "execution_count": 21,
     "metadata": {},
     "output_type": "execute_result"
    }
   ],
   "source": [
    "s1 = {1,2,3,4}\n",
    "s1.pop()   #it will remove any item randomly. "
   ]
  },
  {
   "cell_type": "code",
   "execution_count": 22,
   "id": "3277fdc8",
   "metadata": {},
   "outputs": [
    {
     "data": {
      "text/plain": [
       "2"
      ]
     },
     "execution_count": 22,
     "metadata": {},
     "output_type": "execute_result"
    }
   ],
   "source": [
    "s1.pop()    #it will remove any item randomly.."
   ]
  },
  {
   "cell_type": "code",
   "execution_count": 23,
   "id": "8ac97efa",
   "metadata": {},
   "outputs": [
    {
     "name": "stdout",
     "output_type": "stream",
     "text": [
      "{3, 4}\n"
     ]
    }
   ],
   "source": [
    "print(s1)"
   ]
  },
  {
   "cell_type": "markdown",
   "id": "de51dc9b",
   "metadata": {},
   "source": [
    "### Operations on Sets"
   ]
  },
  {
   "cell_type": "code",
   "execution_count": 9,
   "id": "520551f2",
   "metadata": {},
   "outputs": [
    {
     "name": "stdout",
     "output_type": "stream",
     "text": [
      "{1, 2, 3, 4, 5, 6, 7, 8}\n"
     ]
    }
   ],
   "source": [
    "# 1 UNION:--- union of all elements present in both sets. it avoids duplication.\n",
    "print(set1.union(set2))"
   ]
  },
  {
   "cell_type": "code",
   "execution_count": 10,
   "id": "a1fbfdfb",
   "metadata": {},
   "outputs": [
    {
     "name": "stdout",
     "output_type": "stream",
     "text": [
      "{4, 5}\n"
     ]
    }
   ],
   "source": [
    "# 2 INTERSECTION:- means finding common elements in both the sets. it will also remove duplicate values. \n",
    "print(set1.intersection(set2))"
   ]
  },
  {
   "cell_type": "code",
   "execution_count": 11,
   "id": "d3b67e1d",
   "metadata": {},
   "outputs": [
    {
     "name": "stdout",
     "output_type": "stream",
     "text": [
      "{1, 2, 3}\n"
     ]
    }
   ],
   "source": [
    "# 3 DIFFERENCE: means elements present in one set but not in both.\n",
    "print(set1.difference(set2))\n",
    "# here elements will be shown only present in the first set. and not in both or in set2.. and viceversa"
   ]
  },
  {
   "cell_type": "code",
   "execution_count": 12,
   "id": "1e2c3ff2",
   "metadata": {},
   "outputs": [
    {
     "name": "stdout",
     "output_type": "stream",
     "text": [
      "{1, 2, 3, 6, 7, 8}\n"
     ]
    }
   ],
   "source": [
    "# 4 SYMMETRIC DIFFERENCE:-- the elements present in both but not common. \n",
    "print(set1.symmetric_difference(set2))"
   ]
  },
  {
   "cell_type": "markdown",
   "id": "a45afdc5",
   "metadata": {},
   "source": [
    "## Practice Questions"
   ]
  },
  {
   "cell_type": "code",
   "execution_count": 30,
   "id": "95b50cf3",
   "metadata": {},
   "outputs": [],
   "source": [
    "# 1 store the following word meaning in a python dictionary. \n",
    "meaning = {\n",
    "    'Table':['Piece of furniture','List of facts and figures'],\n",
    "    'Cat':'A small animal'\n",
    "}"
   ]
  },
  {
   "cell_type": "code",
   "execution_count": 27,
   "id": "78440a16",
   "metadata": {},
   "outputs": [
    {
     "name": "stdout",
     "output_type": "stream",
     "text": [
      "{'Table': 'Piece of furniture', 'List of facts and figuresCat': 'A small animal'}\n"
     ]
    }
   ],
   "source": [
    "print(meaning)"
   ]
  },
  {
   "cell_type": "code",
   "execution_count": 31,
   "id": "4ca0e568",
   "metadata": {},
   "outputs": [
    {
     "name": "stdout",
     "output_type": "stream",
     "text": [
      "['Piece of furniture', 'List of facts and figures']\n"
     ]
    }
   ],
   "source": [
    "print(meaning['Table'])"
   ]
  },
  {
   "cell_type": "code",
   "execution_count": 32,
   "id": "cddfcfdb",
   "metadata": {},
   "outputs": [
    {
     "name": "stdout",
     "output_type": "stream",
     "text": [
      "{'python', 'C', 'C++', 'java', 'javascript'}\n",
      "Classrooms needed:  5\n"
     ]
    }
   ],
   "source": [
    "# 2 you are given  a list of subjects.Assume one classroom is required for 1 subject. How many classrooms are needed by all\n",
    "# student.\n",
    "classroom = {'python','java','C++','python','javascript','java','python','java','C++','C'}\n",
    "print(classroom)\n",
    "print('Classrooms needed: ',len(classroom))    #sets are unique. they removes duplicates."
   ]
  },
  {
   "cell_type": "code",
   "execution_count": 37,
   "id": "b4d78ae2",
   "metadata": {},
   "outputs": [
    {
     "name": "stdout",
     "output_type": "stream",
     "text": [
      "Enter Phy marks: 93\n",
      "Enter Chem marks: 91\n",
      "Enter Bio marks: 96\n",
      "{'Phy': 93, 'Chem': 91, 'Bio': 96}\n"
     ]
    }
   ],
   "source": [
    "# 3 WAP to enter marks of 3 subjects from the user and store them into dictionary. Start with an empty dictionary and add\n",
    "# one by one.Use subject name as a key and marks as a value. \n",
    "marks = {}\n",
    "\n",
    "x = int(input('Enter Phy marks: '))\n",
    "marks.update({'Phy':x})\n",
    "\n",
    "y = int(input('Enter Chem marks: '))\n",
    "marks.update({'Chem':y})\n",
    "\n",
    "z = int(input('Enter Bio marks: '))\n",
    "marks.update({'Bio':z})\n",
    "print(marks)"
   ]
  },
  {
   "cell_type": "code",
   "execution_count": 40,
   "id": "5b0422b6",
   "metadata": {},
   "outputs": [],
   "source": [
    "# 4 Figure out a way to store 9 and 9.0 as a separate value in the set.\n",
    "s1={9,'9.0'}"
   ]
  },
  {
   "cell_type": "code",
   "execution_count": 41,
   "id": "1e163dee",
   "metadata": {},
   "outputs": [
    {
     "name": "stdout",
     "output_type": "stream",
     "text": [
      "{'9.0', 9}\n"
     ]
    }
   ],
   "source": [
    "print(s1)"
   ]
  },
  {
   "cell_type": "code",
   "execution_count": null,
   "id": "7259089b",
   "metadata": {},
   "outputs": [],
   "source": []
  }
 ],
 "metadata": {
  "kernelspec": {
   "display_name": "Python 3 (ipykernel)",
   "language": "python",
   "name": "python3"
  },
  "language_info": {
   "codemirror_mode": {
    "name": "ipython",
    "version": 3
   },
   "file_extension": ".py",
   "mimetype": "text/x-python",
   "name": "python",
   "nbconvert_exporter": "python",
   "pygments_lexer": "ipython3",
   "version": "3.9.12"
  }
 },
 "nbformat": 4,
 "nbformat_minor": 5
}
