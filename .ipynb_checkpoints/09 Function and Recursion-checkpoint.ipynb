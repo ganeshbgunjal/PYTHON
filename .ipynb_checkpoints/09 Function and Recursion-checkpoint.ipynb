{
 "cells": [
  {
   "cell_type": "markdown",
   "id": "562737ed",
   "metadata": {},
   "source": [
    "## Function:- "
   ]
  },
  {
   "cell_type": "markdown",
   "id": "7b5e3dd8",
   "metadata": {},
   "source": [
    "A function is a block of organized, reusable code that performs a specific task. Functions help break a\n",
    "program into smaller, modular pieces, making it easier to manage, understand, and debug."
   ]
  },
  {
   "cell_type": "markdown",
   "id": "958ac35e",
   "metadata": {},
   "source": [
    "Redundant code: repeated code.. a good programmer never write this type of code.. instead convert this code to function"
   ]
  },
  {
   "cell_type": "code",
   "execution_count": 1,
   "id": "123eed64",
   "metadata": {},
   "outputs": [],
   "source": [
    "# Syntax:\n",
    "def add(a,b):\n",
    "    return sum\n",
    "\n",
    "# a and b are parameters. def is function definition.\n",
    "\n",
    "# add(1,2)    # this is fucntion call."
   ]
  },
  {
   "cell_type": "code",
   "execution_count": 2,
   "id": "101a6c04",
   "metadata": {},
   "outputs": [],
   "source": [
    "def add1(a,b):\n",
    "    add = a+b\n",
    "    return add"
   ]
  },
  {
   "cell_type": "code",
   "execution_count": 3,
   "id": "7c907dcc",
   "metadata": {},
   "outputs": [
    {
     "data": {
      "text/plain": [
       "4"
      ]
     },
     "execution_count": 3,
     "metadata": {},
     "output_type": "execute_result"
    }
   ],
   "source": [
    "add1(2,2)"
   ]
  },
  {
   "cell_type": "code",
   "execution_count": 4,
   "id": "1ee78dd3",
   "metadata": {},
   "outputs": [],
   "source": [
    "def print_hello():\n",
    "    print('Hello Data scientist')"
   ]
  },
  {
   "cell_type": "code",
   "execution_count": 5,
   "id": "bd572130",
   "metadata": {},
   "outputs": [
    {
     "name": "stdout",
     "output_type": "stream",
     "text": [
      "Hello Data scientist\n",
      "None\n"
     ]
    }
   ],
   "source": [
    "output = print_hello()\n",
    "print(output)        ## its howing None means this ffunction rerurns nothing."
   ]
  },
  {
   "cell_type": "code",
   "execution_count": 6,
   "id": "bf8153d8",
   "metadata": {},
   "outputs": [
    {
     "ename": "SyntaxError",
     "evalue": "'break' outside loop (2246228042.py, line 9)",
     "output_type": "error",
     "traceback": [
      "\u001b[1;36m  Input \u001b[1;32mIn [6]\u001b[1;36m\u001b[0m\n\u001b[1;33m    break\u001b[0m\n\u001b[1;37m    ^\u001b[0m\n\u001b[1;31mSyntaxError\u001b[0m\u001b[1;31m:\u001b[0m 'break' outside loop\n"
     ]
    }
   ],
   "source": [
    "# write a function that calculates average of 4 numbers.\n",
    "def cal_avg():\n",
    "    n1 = int(input('Enter num 1: '))\n",
    "    \n",
    "    n2 = int(input('Enter num 2: '))    \n",
    "    n3 = int(input('Enter num 3: '))    \n",
    "    n4 = int(input('Enter num 4: ')) \n",
    "    if n1 == 0:\n",
    "        break\n",
    "    avg = (n1+n2+n3+n4)/4\n",
    "    print(avg)\n",
    "    return avg\n",
    "\n",
    "\n",
    "# this code is not working because break is not in loop. you can use return instead of break as below"
   ]
  },
  {
   "cell_type": "code",
   "execution_count": 7,
   "id": "f49b7a2e",
   "metadata": {},
   "outputs": [
    {
     "ename": "NameError",
     "evalue": "name 'cal_avg' is not defined",
     "output_type": "error",
     "traceback": [
      "\u001b[1;31m---------------------------------------------------------------------------\u001b[0m",
      "\u001b[1;31mNameError\u001b[0m                                 Traceback (most recent call last)",
      "Input \u001b[1;32mIn [7]\u001b[0m, in \u001b[0;36m<cell line: 1>\u001b[1;34m()\u001b[0m\n\u001b[1;32m----> 1\u001b[0m avgg \u001b[38;5;241m=\u001b[39m \u001b[43mcal_avg\u001b[49m()\n\u001b[0;32m      2\u001b[0m \u001b[38;5;28mprint\u001b[39m(avgg)\n",
      "\u001b[1;31mNameError\u001b[0m: name 'cal_avg' is not defined"
     ]
    }
   ],
   "source": [
    "avgg = cal_avg()\n",
    "print(avgg)"
   ]
  },
  {
   "cell_type": "code",
   "execution_count": 8,
   "id": "1b298f51",
   "metadata": {},
   "outputs": [],
   "source": [
    "def cal_avgg():\n",
    "    n1 = int(input('Enter num 1: '))\n",
    "    \n",
    "    # Check if n1 is 0 to exit the function early\n",
    "    if n1 == 0:\n",
    "        print(\"Exiting because n1 is 0.\")\n",
    "        return  # Exits the function if n1 is 0\n",
    "    \n",
    "    n2 = int(input('Enter num 2: '))\n",
    "    n3 = int(input('Enter num 3: '))\n",
    "    n4 = int(input('Enter num 4: '))\n",
    "    \n",
    "    # Calculate the average\n",
    "    avg = (n1 + n2 + n3 + n4) / 4\n",
    "    print(f\"The average is: {avg}\")\n",
    "    return avg"
   ]
  },
  {
   "cell_type": "code",
   "execution_count": 9,
   "id": "ef9a0d7d",
   "metadata": {},
   "outputs": [
    {
     "name": "stdout",
     "output_type": "stream",
     "text": [
      "Enter num 1: 4\n",
      "Enter num 2: 5\n",
      "Enter num 3: 6\n",
      "Enter num 4: 7\n",
      "The average is: 5.5\n"
     ]
    },
    {
     "data": {
      "text/plain": [
       "5.5"
      ]
     },
     "execution_count": 9,
     "metadata": {},
     "output_type": "execute_result"
    }
   ],
   "source": [
    "cal_avgg()"
   ]
  },
  {
   "cell_type": "markdown",
   "id": "26a3d558",
   "metadata": {},
   "source": [
    "## Built in Functions:-- \n",
    "Functions that are already written in python.\n",
    "example:- print,len,range,type"
   ]
  },
  {
   "cell_type": "code",
   "execution_count": 10,
   "id": "6a4df75d",
   "metadata": {},
   "outputs": [
    {
     "name": "stdout",
     "output_type": "stream",
     "text": [
      "Ganesh Gunjal\n"
     ]
    }
   ],
   "source": [
    "print('Ganesh','Gunjal')   # seperator is already define in print functiion. \" \" is given therea automatically."
   ]
  },
  {
   "cell_type": "code",
   "execution_count": 11,
   "id": "bcfaee17",
   "metadata": {},
   "outputs": [
    {
     "name": "stdout",
     "output_type": "stream",
     "text": [
      "Ganesh Gunjal\n"
     ]
    }
   ],
   "source": [
    "print(\"Ganesh\",end=\" \")    #end has \\n default. we gave end = \" \", there values are printed on same line with space\n",
    "print('Gunjal')"
   ]
  },
  {
   "cell_type": "markdown",
   "id": "06407b54",
   "metadata": {},
   "source": [
    "## User Defined functions:-- \n",
    "these functions are created by user/coder for their specific use."
   ]
  },
  {
   "cell_type": "markdown",
   "id": "e99448dc",
   "metadata": {},
   "source": [
    "### Default: \n",
    "when we dont pass any value, then default parameter gives default value specified over there."
   ]
  },
  {
   "cell_type": "code",
   "execution_count": 12,
   "id": "c4cd9eb5",
   "metadata": {},
   "outputs": [],
   "source": [
    "# Default parameter. \n",
    "def cal_prod(a=2,b=4):\n",
    "    print(a*b)\n",
    "    return a*b"
   ]
  },
  {
   "cell_type": "code",
   "execution_count": 13,
   "id": "a02aee4c",
   "metadata": {},
   "outputs": [
    {
     "name": "stdout",
     "output_type": "stream",
     "text": [
      "8\n"
     ]
    },
    {
     "data": {
      "text/plain": [
       "8"
      ]
     },
     "execution_count": 13,
     "metadata": {},
     "output_type": "execute_result"
    }
   ],
   "source": [
    "cal_prod()    #we dont provide any value still its giving output due to default values. "
   ]
  },
  {
   "cell_type": "code",
   "execution_count": 14,
   "id": "bedcde8d",
   "metadata": {},
   "outputs": [],
   "source": [
    "def cal_prod(a,b=4):\n",
    "    print(a*b)\n",
    "    return a*b"
   ]
  },
  {
   "cell_type": "code",
   "execution_count": 15,
   "id": "7109966e",
   "metadata": {},
   "outputs": [
    {
     "name": "stdout",
     "output_type": "stream",
     "text": [
      "20\n"
     ]
    },
    {
     "data": {
      "text/plain": [
       "20"
      ]
     },
     "execution_count": 15,
     "metadata": {},
     "output_type": "execute_result"
    }
   ],
   "source": [
    "cal_prod(5)   #value of b is taken automatically."
   ]
  },
  {
   "cell_type": "code",
   "execution_count": 16,
   "id": "46187898",
   "metadata": {},
   "outputs": [],
   "source": [
    "# WAF that prints length of the list.. \n",
    "lst = [1,2,3,4,5,6,6,7,8,9,10,'data scientist']\n",
    "def listlen(lst):\n",
    "    length = len(lst)\n",
    "    print('Length of the list is: ',length)\n",
    "        "
   ]
  },
  {
   "cell_type": "code",
   "execution_count": 17,
   "id": "d8ad1bd8",
   "metadata": {},
   "outputs": [
    {
     "name": "stdout",
     "output_type": "stream",
     "text": [
      "Length of the list is:  12\n"
     ]
    }
   ],
   "source": [
    "listlen(lst)"
   ]
  },
  {
   "cell_type": "code",
   "execution_count": 18,
   "id": "f8377618",
   "metadata": {},
   "outputs": [],
   "source": [
    "# WAF to print elements of the list in a single line.. \n",
    "def print_element(lst):\n",
    "    for i in lst:\n",
    "        print(i,end=\" \")"
   ]
  },
  {
   "cell_type": "code",
   "execution_count": 19,
   "id": "ef441217",
   "metadata": {},
   "outputs": [
    {
     "name": "stdout",
     "output_type": "stream",
     "text": [
      "1 2 3 4 5 6 6 7 8 9 10 data scientist "
     ]
    }
   ],
   "source": [
    "print_element(lst)"
   ]
  },
  {
   "cell_type": "code",
   "execution_count": 20,
   "id": "4dba8d65",
   "metadata": {},
   "outputs": [],
   "source": [
    "# WAF to calculate factorial of a number..\n",
    "def factorial(n):\n",
    "    if n <=1:\n",
    "        return 1\n",
    "    else:\n",
    "        return n *factorial(n-1)"
   ]
  },
  {
   "cell_type": "code",
   "execution_count": 21,
   "id": "001c5a0a",
   "metadata": {},
   "outputs": [
    {
     "data": {
      "text/plain": [
       "120"
      ]
     },
     "execution_count": 21,
     "metadata": {},
     "output_type": "execute_result"
    }
   ],
   "source": [
    "factorial(5)"
   ]
  },
  {
   "cell_type": "code",
   "execution_count": 24,
   "id": "9adcaddc",
   "metadata": {},
   "outputs": [],
   "source": [
    "# WAF to convert USD to INR.\n",
    "def usd_to_inr():\n",
    "    amount_in_usd = int(input('Enter amount in usd: '))\n",
    "    amount_in_inr = amount_in_usd*83\n",
    "    print(f'{amount_in_usd} doller = {amount_in_inr} rupees')"
   ]
  },
  {
   "cell_type": "code",
   "execution_count": 25,
   "id": "09800cc2",
   "metadata": {},
   "outputs": [
    {
     "name": "stdout",
     "output_type": "stream",
     "text": [
      "Enter amount in usd: 1\n",
      "1 doller = 83 rupees\n"
     ]
    }
   ],
   "source": [
    "usd_to_inr()"
   ]
  },
  {
   "cell_type": "code",
   "execution_count": 26,
   "id": "91c0efcf",
   "metadata": {},
   "outputs": [],
   "source": [
    "# WAF to print the number either even or odd..\n",
    "def even_odd():\n",
    "    num=int(input('Enter number: '))\n",
    "    if num %2==0:\n",
    "        print(num,' is even..')\n",
    "    else:\n",
    "        print(num,' is odd')"
   ]
  },
  {
   "cell_type": "code",
   "execution_count": 27,
   "id": "50f025b9",
   "metadata": {},
   "outputs": [
    {
     "name": "stdout",
     "output_type": "stream",
     "text": [
      "Enter number: 55\n",
      "55  is odd\n"
     ]
    }
   ],
   "source": [
    "even_odd()"
   ]
  },
  {
   "cell_type": "code",
   "execution_count": 28,
   "id": "89f6f05d",
   "metadata": {},
   "outputs": [
    {
     "name": "stdout",
     "output_type": "stream",
     "text": [
      "Enter number: 66\n",
      "66  is even..\n"
     ]
    }
   ],
   "source": [
    "even_odd()"
   ]
  },
  {
   "cell_type": "markdown",
   "id": "10209252",
   "metadata": {},
   "source": [
    "## Recursion:--\n",
    "When function calls itself then its recursion. <br>\n",
    "all the code done with loops, can be done using recursion also. and vice versa. \n",
    "Recursion comes with boundry condition. as shown in below.\n",
    "recursion works with call stack as shradha shown.(time 46, function and recursion video) \n",
    "base case is so much needed. else code will go in infinite loop and whole memory will be occupied. and code will crash."
   ]
  },
  {
   "cell_type": "code",
   "execution_count": 29,
   "id": "3d917f45",
   "metadata": {},
   "outputs": [],
   "source": [
    "def show(n):\n",
    "    if (n==0):    #base case\n",
    "        return \n",
    "    print(n)\n",
    "    show(n-1)"
   ]
  },
  {
   "cell_type": "code",
   "execution_count": 30,
   "id": "8d3c99c6",
   "metadata": {},
   "outputs": [
    {
     "name": "stdout",
     "output_type": "stream",
     "text": [
      "100\n",
      "99\n",
      "98\n",
      "97\n",
      "96\n",
      "95\n",
      "94\n",
      "93\n",
      "92\n",
      "91\n",
      "90\n",
      "89\n",
      "88\n",
      "87\n",
      "86\n",
      "85\n",
      "84\n",
      "83\n",
      "82\n",
      "81\n",
      "80\n",
      "79\n",
      "78\n",
      "77\n",
      "76\n",
      "75\n",
      "74\n",
      "73\n",
      "72\n",
      "71\n",
      "70\n",
      "69\n",
      "68\n",
      "67\n",
      "66\n",
      "65\n",
      "64\n",
      "63\n",
      "62\n",
      "61\n",
      "60\n",
      "59\n",
      "58\n",
      "57\n",
      "56\n",
      "55\n",
      "54\n",
      "53\n",
      "52\n",
      "51\n",
      "50\n",
      "49\n",
      "48\n",
      "47\n",
      "46\n",
      "45\n",
      "44\n",
      "43\n",
      "42\n",
      "41\n",
      "40\n",
      "39\n",
      "38\n",
      "37\n",
      "36\n",
      "35\n",
      "34\n",
      "33\n",
      "32\n",
      "31\n",
      "30\n",
      "29\n",
      "28\n",
      "27\n",
      "26\n",
      "25\n",
      "24\n",
      "23\n",
      "22\n",
      "21\n",
      "20\n",
      "19\n",
      "18\n",
      "17\n",
      "16\n",
      "15\n",
      "14\n",
      "13\n",
      "12\n",
      "11\n",
      "10\n",
      "9\n",
      "8\n",
      "7\n",
      "6\n",
      "5\n",
      "4\n",
      "3\n",
      "2\n",
      "1\n"
     ]
    }
   ],
   "source": [
    "show(100)"
   ]
  },
  {
   "cell_type": "code",
   "execution_count": 31,
   "id": "d3f8d340",
   "metadata": {},
   "outputs": [],
   "source": [
    "def show1(n):\n",
    "    if (n==-1):    #base case\n",
    "        return\n",
    "    print(n)\n",
    "    show1(n-1)"
   ]
  },
  {
   "cell_type": "code",
   "execution_count": 32,
   "id": "19a882e0",
   "metadata": {},
   "outputs": [
    {
     "name": "stdout",
     "output_type": "stream",
     "text": [
      "10\n",
      "9\n",
      "8\n",
      "7\n",
      "6\n",
      "5\n",
      "4\n",
      "3\n",
      "2\n",
      "1\n",
      "0\n"
     ]
    }
   ],
   "source": [
    "show1(10)"
   ]
  },
  {
   "cell_type": "code",
   "execution_count": 33,
   "id": "32994afd",
   "metadata": {},
   "outputs": [
    {
     "name": "stdout",
     "output_type": "stream",
     "text": [
      "Enter num: 5\n",
      "Factorial of 5 is 120\n"
     ]
    }
   ],
   "source": [
    "# Recursion thr factorial..\n",
    "def fact(n):\n",
    "    \n",
    "    if (n==0) or (n==1):\n",
    "        return 1\n",
    "    else:\n",
    "        return n*fact(n-1)\n",
    "n=int(input('Enter num: '))\n",
    "print(f'Factorial of {n} is {fact(n)}')\n",
    "    \n",
    "# print(n)"
   ]
  },
  {
   "cell_type": "code",
   "execution_count": 34,
   "id": "307976f9",
   "metadata": {},
   "outputs": [
    {
     "data": {
      "text/plain": [
       "120"
      ]
     },
     "execution_count": 34,
     "metadata": {},
     "output_type": "execute_result"
    }
   ],
   "source": [
    "fact(5)"
   ]
  },
  {
   "cell_type": "code",
   "execution_count": 35,
   "id": "ab5dd78c",
   "metadata": {},
   "outputs": [
    {
     "name": "stdout",
     "output_type": "stream",
     "text": [
      "Enter num: 10\n",
      "Sum of 10 is 55\n"
     ]
    }
   ],
   "source": [
    "# Write a recursive function  to calculate the sum of first n naturl numbers..\n",
    "def sum_natural_number(n):\n",
    "    if (n==0):\n",
    "        return 0\n",
    "    else:\n",
    "        return n+sum_natural_number(n-1)\n",
    "\n",
    "n = int(input('Enter num: '))\n",
    "summ = sum_natural_number(n)\n",
    "print(f'Sum of {n} is {sum_natural_number(n)}')"
   ]
  },
  {
   "cell_type": "code",
   "execution_count": 43,
   "id": "1e396c99",
   "metadata": {},
   "outputs": [
    {
     "name": "stdout",
     "output_type": "stream",
     "text": [
      "banana\n",
      "lichi\n",
      "mango\n",
      "apple\n"
     ]
    }
   ],
   "source": [
    "# Write a recursive function to print all elements of the list.\n",
    "def print_list(list,idx=0):\n",
    "    if (idx==len(list)):\n",
    "        return\n",
    "    print(list[idx])\n",
    "    print_list(list,idx+1)\n",
    "lst = ['banana','lichi','mango','apple']\n",
    "print_list(lst)\n",
    "    "
   ]
  },
  {
   "cell_type": "code",
   "execution_count": null,
   "id": "850dae1c",
   "metadata": {},
   "outputs": [],
   "source": []
  }
 ],
 "metadata": {
  "kernelspec": {
   "display_name": "Python 3 (ipykernel)",
   "language": "python",
   "name": "python3"
  },
  "language_info": {
   "codemirror_mode": {
    "name": "ipython",
    "version": 3
   },
   "file_extension": ".py",
   "mimetype": "text/x-python",
   "name": "python",
   "nbconvert_exporter": "python",
   "pygments_lexer": "ipython3",
   "version": "3.9.12"
  }
 },
 "nbformat": 4,
 "nbformat_minor": 5
}
