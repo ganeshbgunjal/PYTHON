{
 "cells": [
  {
   "cell_type": "markdown",
   "id": "1a363d9b",
   "metadata": {},
   "source": [
    "### List"
   ]
  },
  {
   "cell_type": "markdown",
   "id": "1994de1e",
   "metadata": {},
   "source": [
    "list is a data structure use for storing values of any type like int float string.. <br>\n",
    "arrays of other languages are the lists in python."
   ]
  },
  {
   "cell_type": "code",
   "execution_count": 2,
   "id": "c208e694",
   "metadata": {},
   "outputs": [],
   "source": [
    "names = ['ganesh','dilip','amol']   #names of family members\n",
    "fruits = ['mangoes','apples','bananas','pineapples']"
   ]
  },
  {
   "cell_type": "code",
   "execution_count": 4,
   "id": "e21b5835",
   "metadata": {},
   "outputs": [
    {
     "data": {
      "text/plain": [
       "['ganesh', 'dilip', 'amol']"
      ]
     },
     "execution_count": 4,
     "metadata": {},
     "output_type": "execute_result"
    }
   ],
   "source": [
    "names"
   ]
  },
  {
   "cell_type": "code",
   "execution_count": 5,
   "id": "1658455a",
   "metadata": {},
   "outputs": [
    {
     "data": {
      "text/plain": [
       "['mangoes', 'apples', 'bananas', 'pineapples']"
      ]
     },
     "execution_count": 5,
     "metadata": {},
     "output_type": "execute_result"
    }
   ],
   "source": [
    "fruits"
   ]
  },
  {
   "cell_type": "code",
   "execution_count": 6,
   "id": "65bbfc75",
   "metadata": {},
   "outputs": [],
   "source": [
    "marks=[90,80,87,89,93]"
   ]
  },
  {
   "cell_type": "code",
   "execution_count": 14,
   "id": "408cceb7",
   "metadata": {},
   "outputs": [
    {
     "name": "stdout",
     "output_type": "stream",
     "text": [
      "index 0 value 90\n",
      "index 1 value 80\n",
      "index 2 value 87\n",
      "index 3 value 89\n",
      "index 4 value 93\n"
     ]
    }
   ],
   "source": [
    "for index,value in enumerate(marks):\n",
    "    print('index',index,'value',value)"
   ]
  },
  {
   "cell_type": "code",
   "execution_count": 15,
   "id": "50ed84bc",
   "metadata": {},
   "outputs": [
    {
     "name": "stdout",
     "output_type": "stream",
     "text": [
      "<class 'list'>\n"
     ]
    }
   ],
   "source": [
    "print(type(marks))"
   ]
  },
  {
   "cell_type": "code",
   "execution_count": 18,
   "id": "36732f4a",
   "metadata": {},
   "outputs": [
    {
     "name": "stdout",
     "output_type": "stream",
     "text": [
      "90\n",
      "80\n"
     ]
    }
   ],
   "source": [
    "# accessing the element\n",
    "print(marks[0])\n",
    "print(marks[1])"
   ]
  },
  {
   "cell_type": "code",
   "execution_count": 19,
   "id": "fa8cc8d0",
   "metadata": {},
   "outputs": [],
   "source": [
    "marks[2]=50   #item assignment is allowed. strings doesnt allow item assignment."
   ]
  },
  {
   "cell_type": "code",
   "execution_count": 20,
   "id": "8e567498",
   "metadata": {},
   "outputs": [
    {
     "data": {
      "text/plain": [
       "[90, 80, 50, 89, 93]"
      ]
     },
     "execution_count": 20,
     "metadata": {},
     "output_type": "execute_result"
    }
   ],
   "source": [
    "marks"
   ]
  },
  {
   "cell_type": "code",
   "execution_count": 21,
   "id": "a5a331e7",
   "metadata": {},
   "outputs": [
    {
     "data": {
      "text/plain": [
       "[80, 50, 89]"
      ]
     },
     "execution_count": 21,
     "metadata": {},
     "output_type": "execute_result"
    }
   ],
   "source": [
    "marks[1:4]   #lists slicing"
   ]
  },
  {
   "cell_type": "code",
   "execution_count": 24,
   "id": "3eea2e2a",
   "metadata": {},
   "outputs": [
    {
     "data": {
      "text/plain": [
       "[80, 50, 89]"
      ]
     },
     "execution_count": 24,
     "metadata": {},
     "output_type": "execute_result"
    }
   ],
   "source": [
    "marks[-4:-1]"
   ]
  },
  {
   "cell_type": "markdown",
   "id": "55a02301",
   "metadata": {},
   "source": [
    "### List Methods"
   ]
  },
  {
   "cell_type": "code",
   "execution_count": 25,
   "id": "cd1adef5",
   "metadata": {},
   "outputs": [
    {
     "data": {
      "text/plain": [
       "[90, 80, 50, 89, 93]"
      ]
     },
     "execution_count": 25,
     "metadata": {},
     "output_type": "execute_result"
    }
   ],
   "source": [
    "marks"
   ]
  },
  {
   "cell_type": "code",
   "execution_count": 26,
   "id": "7a4053be",
   "metadata": {},
   "outputs": [],
   "source": [
    "marks.append(94)   #94 is added at last index.. append means add at the last."
   ]
  },
  {
   "cell_type": "code",
   "execution_count": 27,
   "id": "a7d34f64",
   "metadata": {},
   "outputs": [
    {
     "data": {
      "text/plain": [
       "[90, 80, 50, 89, 93, 94]"
      ]
     },
     "execution_count": 27,
     "metadata": {},
     "output_type": "execute_result"
    }
   ],
   "source": [
    "marks"
   ]
  },
  {
   "cell_type": "code",
   "execution_count": 28,
   "id": "1046ce9c",
   "metadata": {},
   "outputs": [],
   "source": [
    "marks.sort()"
   ]
  },
  {
   "cell_type": "code",
   "execution_count": 29,
   "id": "a6cab58f",
   "metadata": {},
   "outputs": [
    {
     "data": {
      "text/plain": [
       "[50, 80, 89, 90, 93, 94]"
      ]
     },
     "execution_count": 29,
     "metadata": {},
     "output_type": "execute_result"
    }
   ],
   "source": [
    "marks"
   ]
  },
  {
   "cell_type": "code",
   "execution_count": 30,
   "id": "709d4db5",
   "metadata": {},
   "outputs": [],
   "source": [
    "marks.sort(reverse=True)"
   ]
  },
  {
   "cell_type": "code",
   "execution_count": 31,
   "id": "e2b3e2ac",
   "metadata": {},
   "outputs": [
    {
     "data": {
      "text/plain": [
       "[94, 93, 90, 89, 80, 50]"
      ]
     },
     "execution_count": 31,
     "metadata": {},
     "output_type": "execute_result"
    }
   ],
   "source": [
    "marks"
   ]
  },
  {
   "cell_type": "code",
   "execution_count": 32,
   "id": "0f83abac",
   "metadata": {},
   "outputs": [],
   "source": [
    "marks.insert(3,99)"
   ]
  },
  {
   "cell_type": "code",
   "execution_count": 33,
   "id": "209da875",
   "metadata": {},
   "outputs": [
    {
     "data": {
      "text/plain": [
       "[94, 93, 90, 99, 89, 80, 50]"
      ]
     },
     "execution_count": 33,
     "metadata": {},
     "output_type": "execute_result"
    }
   ],
   "source": [
    "marks   # 99 is inserted at 3rd lacation and rest of elements are adjusted."
   ]
  },
  {
   "cell_type": "code",
   "execution_count": 34,
   "id": "ba8f1da2",
   "metadata": {},
   "outputs": [],
   "source": [
    "marks.reverse()    # reversed whole list"
   ]
  },
  {
   "cell_type": "code",
   "execution_count": 35,
   "id": "ae9f34eb",
   "metadata": {},
   "outputs": [
    {
     "data": {
      "text/plain": [
       "[50, 80, 89, 99, 90, 93, 94]"
      ]
     },
     "execution_count": 35,
     "metadata": {},
     "output_type": "execute_result"
    }
   ],
   "source": [
    "marks"
   ]
  },
  {
   "cell_type": "code",
   "execution_count": 36,
   "id": "db1d3d6d",
   "metadata": {},
   "outputs": [],
   "source": [
    "marks.remove(80)   #it will delete 80 at firstoccurances.. it removes element."
   ]
  },
  {
   "cell_type": "code",
   "execution_count": 37,
   "id": "7cc3b46e",
   "metadata": {},
   "outputs": [
    {
     "data": {
      "text/plain": [
       "[50, 89, 99, 90, 93, 94]"
      ]
     },
     "execution_count": 37,
     "metadata": {},
     "output_type": "execute_result"
    }
   ],
   "source": [
    "marks"
   ]
  },
  {
   "cell_type": "code",
   "execution_count": 38,
   "id": "2efc43d7",
   "metadata": {},
   "outputs": [
    {
     "data": {
      "text/plain": [
       "94"
      ]
     },
     "execution_count": 38,
     "metadata": {},
     "output_type": "execute_result"
    }
   ],
   "source": [
    "marks.pop()   #it removes elements from last position.. this method takes index to remove."
   ]
  },
  {
   "cell_type": "code",
   "execution_count": 39,
   "id": "8f9ee5b9",
   "metadata": {},
   "outputs": [
    {
     "data": {
      "text/plain": [
       "[50, 89, 99, 90, 93]"
      ]
     },
     "execution_count": 39,
     "metadata": {},
     "output_type": "execute_result"
    }
   ],
   "source": [
    "marks"
   ]
  },
  {
   "cell_type": "code",
   "execution_count": null,
   "id": "c698b181",
   "metadata": {},
   "outputs": [],
   "source": []
  }
 ],
 "metadata": {
  "kernelspec": {
   "display_name": "Python 3 (ipykernel)",
   "language": "python",
   "name": "python3"
  },
  "language_info": {
   "codemirror_mode": {
    "name": "ipython",
    "version": 3
   },
   "file_extension": ".py",
   "mimetype": "text/x-python",
   "name": "python",
   "nbconvert_exporter": "python",
   "pygments_lexer": "ipython3",
   "version": "3.9.12"
  }
 },
 "nbformat": 4,
 "nbformat_minor": 5
}
