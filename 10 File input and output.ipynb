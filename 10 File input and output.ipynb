{
 "cells": [
  {
   "cell_type": "markdown",
   "id": "db9bd69f",
   "metadata": {},
   "source": [
    "### Files:-- \n",
    "Python is used for writing and reading operations on the file. it also contains delete and update of data."
   ]
  },
  {
   "cell_type": "markdown",
   "id": "e4862052",
   "metadata": {},
   "source": [
    "### Types of file:-  <br>"
   ]
  },
  {
   "cell_type": "markdown",
   "id": "bef5281c",
   "metadata": {},
   "source": [
    "**1) Text files:--**  this contains .txt, .doc, .log files   <br>\n",
    "**2) Binary files:-** this file contains .mp4, .mov, .png, .jpef files"
   ]
  },
  {
   "cell_type": "markdown",
   "id": "8ddab5b0",
   "metadata": {},
   "source": [
    "#### Open Read and Close File:--  we have open file before read and write. <br>\n",
    "f = open('file name', 'mode')       <br> \n",
    "by default mode is ''read''"
   ]
  },
  {
   "cell_type": "code",
   "execution_count": 6,
   "id": "8a84cec3",
   "metadata": {},
   "outputs": [
    {
     "name": "stdout",
     "output_type": "stream",
     "text": [
      "this is file is for learning file operations like read write. \n",
      "this is using python.\n"
     ]
    }
   ],
   "source": [
    "f = open('sample.txt')\n",
    "data = f.read()\n",
    "print(data)\n",
    "f.close()\n",
    "#file is present in same folder, thats why no need of giving path. \n",
    "# if file is present in other folder then we have to give complete path."
   ]
  },
  {
   "cell_type": "code",
   "execution_count": 14,
   "id": "b853ceab",
   "metadata": {},
   "outputs": [
    {
     "name": "stdout",
     "output_type": "stream",
     "text": [
      "this is file is for learning file operations like read write. \n",
      "\n"
     ]
    }
   ],
   "source": [
    "f = open('sample.txt')\n",
    "line1 = f.readline()     # it will read first line\n",
    "print(line1)\n",
    "# f.close()"
   ]
  },
  {
   "cell_type": "code",
   "execution_count": 16,
   "id": "e3c77e89",
   "metadata": {},
   "outputs": [
    {
     "name": "stdout",
     "output_type": "stream",
     "text": [
      "this is using python.\n"
     ]
    }
   ],
   "source": [
    "line2 = f.readline()\n",
    "print(line2)"
   ]
  },
  {
   "cell_type": "markdown",
   "id": "88d488e4",
   "metadata": {},
   "source": [
    "### Modes:--             <br>   \n",
    "1) 'r':-- for reading a file       <br>\n",
    "2) 'w':-- for writing a file      <br>\n",
    "3) 'x':-- create new file for writing       <br>\n",
    "4) 'a':- open new file and write data at the end if exists     <br>\n",
    "5) 'b':-- binary file          <br>\n",
    "6) 't':-- text file\n"
   ]
  },
  {
   "cell_type": "markdown",
   "id": "a1e84f78",
   "metadata": {},
   "source": [
    "### Writing to file:--"
   ]
  },
  {
   "cell_type": "code",
   "execution_count": 22,
   "id": "60b71cce",
   "metadata": {},
   "outputs": [],
   "source": [
    "f = open('demo.txt','w')\n",
    "f.write('I have to learn machine learning to become data scientist')\n",
    "f.close()"
   ]
  },
  {
   "cell_type": "code",
   "execution_count": 23,
   "id": "2f9e5dd1",
   "metadata": {},
   "outputs": [
    {
     "data": {
      "text/plain": [
       "'I have to learn machine learning to become data scientist'"
      ]
     },
     "execution_count": 23,
     "metadata": {},
     "output_type": "execute_result"
    }
   ],
   "source": [
    "f = open('demo.txt')\n",
    "f.read()"
   ]
  },
  {
   "cell_type": "code",
   "execution_count": 26,
   "id": "36726f9d",
   "metadata": {},
   "outputs": [],
   "source": [
    "f = open('demo.txt','a')\n",
    "f.write('competition is so tough. you will have work very hard like 16 hrs a day. as harkirat said')\n",
    "f.close()"
   ]
  },
  {
   "cell_type": "code",
   "execution_count": 28,
   "id": "b5714c9a",
   "metadata": {},
   "outputs": [
    {
     "data": {
      "text/plain": [
       "'I have to learn machine learning to become data scientistcompetition is so tough.\\n you will have work very hard like 16 hrs a day. \\n competition is so tough. you will have work very hard like 16 hrs a day.\\n as harkirat said.\\n'"
      ]
     },
     "execution_count": 28,
     "metadata": {},
     "output_type": "execute_result"
    }
   ],
   "source": [
    "f = open('demo.txt')\n",
    "f.read()"
   ]
  },
  {
   "cell_type": "code",
   "execution_count": null,
   "id": "2a4d153a",
   "metadata": {},
   "outputs": [],
   "source": []
  }
 ],
 "metadata": {
  "kernelspec": {
   "display_name": "Python 3 (ipykernel)",
   "language": "python",
   "name": "python3"
  },
  "language_info": {
   "codemirror_mode": {
    "name": "ipython",
    "version": 3
   },
   "file_extension": ".py",
   "mimetype": "text/x-python",
   "name": "python",
   "nbconvert_exporter": "python",
   "pygments_lexer": "ipython3",
   "version": "3.9.12"
  }
 },
 "nbformat": 4,
 "nbformat_minor": 5
}
