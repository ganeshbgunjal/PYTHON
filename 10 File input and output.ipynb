{
 "cells": [
  {
   "cell_type": "markdown",
   "id": "76c6d072",
   "metadata": {},
   "source": [
    "#### Python is used for writing and reading operations on the file."
   ]
  },
  {
   "cell_type": "markdown",
   "id": "016c6a64",
   "metadata": {},
   "source": [
    "### Types of file:-  <br>"
   ]
  },
  {
   "cell_type": "markdown",
   "id": "aa5c751a",
   "metadata": {},
   "source": [
    "**1) Text files:--**  this contains .txt, .doc, .log files   <br>\n",
    "**2) Binary files:-** this file contains .mp4, .mov, .png, .jpef files"
   ]
  },
  {
   "cell_type": "code",
   "execution_count": null,
   "id": "fe9ac343",
   "metadata": {},
   "outputs": [],
   "source": []
  }
 ],
 "metadata": {
  "kernelspec": {
   "display_name": "Python 3 (ipykernel)",
   "language": "python",
   "name": "python3"
  },
  "language_info": {
   "codemirror_mode": {
    "name": "ipython",
    "version": 3
   },
   "file_extension": ".py",
   "mimetype": "text/x-python",
   "name": "python",
   "nbconvert_exporter": "python",
   "pygments_lexer": "ipython3",
   "version": "3.9.12"
  }
 },
 "nbformat": 4,
 "nbformat_minor": 5
}
