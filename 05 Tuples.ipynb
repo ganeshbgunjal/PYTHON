{
 "cells": [
  {
   "cell_type": "markdown",
   "id": "c37f8b0a",
   "metadata": {},
   "source": [
    "### Tuples:"
   ]
  },
  {
   "cell_type": "markdown",
   "id": "450ca75f",
   "metadata": {},
   "source": [
    "they are immutable in nature.. means once they have assigned, they cant be changed.<br>\n",
    "they have syntax like ()  this.. "
   ]
  },
  {
   "cell_type": "code",
   "execution_count": 1,
   "id": "9ff65aa2",
   "metadata": {},
   "outputs": [],
   "source": [
    "tup = (1,2,3,4,5,6)"
   ]
  },
  {
   "cell_type": "code",
   "execution_count": 2,
   "id": "ce8e6f5f",
   "metadata": {},
   "outputs": [
    {
     "name": "stdout",
     "output_type": "stream",
     "text": [
      "<class 'tuple'>\n",
      "(1, 2, 3, 4, 5, 6)\n"
     ]
    }
   ],
   "source": [
    "print(type(tup))\n",
    "print(tup)"
   ]
  },
  {
   "cell_type": "code",
   "execution_count": 3,
   "id": "6d488537",
   "metadata": {},
   "outputs": [
    {
     "data": {
      "text/plain": [
       "1"
      ]
     },
     "execution_count": 3,
     "metadata": {},
     "output_type": "execute_result"
    }
   ],
   "source": [
    "tup[0]"
   ]
  },
  {
   "cell_type": "code",
   "execution_count": 4,
   "id": "8fcd3d91",
   "metadata": {},
   "outputs": [
    {
     "data": {
      "text/plain": [
       "3"
      ]
     },
     "execution_count": 4,
     "metadata": {},
     "output_type": "execute_result"
    }
   ],
   "source": [
    "tup[2]"
   ]
  },
  {
   "cell_type": "code",
   "execution_count": 5,
   "id": "472f14d5",
   "metadata": {},
   "outputs": [
    {
     "ename": "TypeError",
     "evalue": "'tuple' object does not support item assignment",
     "output_type": "error",
     "traceback": [
      "\u001b[1;31m---------------------------------------------------------------------------\u001b[0m",
      "\u001b[1;31mTypeError\u001b[0m                                 Traceback (most recent call last)",
      "Input \u001b[1;32mIn [5]\u001b[0m, in \u001b[0;36m<cell line: 1>\u001b[1;34m()\u001b[0m\n\u001b[1;32m----> 1\u001b[0m tup[\u001b[38;5;241m2\u001b[39m]\u001b[38;5;241m=\u001b[39m\u001b[38;5;241m99\u001b[39m\n",
      "\u001b[1;31mTypeError\u001b[0m: 'tuple' object does not support item assignment"
     ]
    }
   ],
   "source": [
    "tup[2]=99   #tuples doesnt support item assignment"
   ]
  },
  {
   "cell_type": "markdown",
   "id": "4c50cdec",
   "metadata": {},
   "source": [
    "### Tuple Methods"
   ]
  },
  {
   "cell_type": "code",
   "execution_count": 10,
   "id": "c1ebb442",
   "metadata": {},
   "outputs": [],
   "source": [
    "tup1 = (1,2,3,9,7,6,8,8,8)"
   ]
  },
  {
   "cell_type": "code",
   "execution_count": 11,
   "id": "03b15c5a",
   "metadata": {},
   "outputs": [
    {
     "data": {
      "text/plain": [
       "(1, 2, 3, 9, 7, 6, 8, 8, 8)"
      ]
     },
     "execution_count": 11,
     "metadata": {},
     "output_type": "execute_result"
    }
   ],
   "source": [
    "tup1"
   ]
  },
  {
   "cell_type": "code",
   "execution_count": 12,
   "id": "3187e5c3",
   "metadata": {},
   "outputs": [
    {
     "data": {
      "text/plain": [
       "1"
      ]
     },
     "execution_count": 12,
     "metadata": {},
     "output_type": "execute_result"
    }
   ],
   "source": [
    "tup1.index(2)   #takes element as a input"
   ]
  },
  {
   "cell_type": "code",
   "execution_count": 13,
   "id": "51ad4167",
   "metadata": {},
   "outputs": [
    {
     "data": {
      "text/plain": [
       "3"
      ]
     },
     "execution_count": 13,
     "metadata": {},
     "output_type": "execute_result"
    }
   ],
   "source": [
    "tup1.index(9)"
   ]
  },
  {
   "cell_type": "code",
   "execution_count": 14,
   "id": "f15327a2",
   "metadata": {},
   "outputs": [
    {
     "data": {
      "text/plain": [
       "3"
      ]
     },
     "execution_count": 14,
     "metadata": {},
     "output_type": "execute_result"
    }
   ],
   "source": [
    "tup1.count(8)"
   ]
  },
  {
   "cell_type": "markdown",
   "id": "4896ec66",
   "metadata": {},
   "source": [
    "## Questions"
   ]
  },
  {
   "cell_type": "code",
   "execution_count": 19,
   "id": "f7759271",
   "metadata": {},
   "outputs": [
    {
     "name": "stdout",
     "output_type": "stream",
     "text": [
      "Enter name of movie: thor\n",
      "Enter name of movie: hulk\n",
      "Enter name of movie: baby\n",
      "** Movies you entered **\n",
      "['thor', 'hulk', 'baby']\n"
     ]
    }
   ],
   "source": [
    "# WAP to ask the user to enter 3 names of movie and store them into list\n",
    "movies = []\n",
    "for i in range(3):\n",
    "    name = input('Enter name of movie: ')\n",
    "    movies.append(name)\n",
    "print('** Movies you entered **')\n",
    "print(movies)"
   ]
  },
  {
   "cell_type": "code",
   "execution_count": 21,
   "id": "400dfb69",
   "metadata": {},
   "outputs": [
    {
     "name": "stdout",
     "output_type": "stream",
     "text": [
      "Enter string to check for palindrom: ganpat\n",
      "Given string is not palindrom.\n"
     ]
    }
   ],
   "source": [
    "# WAP to check whether given string is palindrom or not\n",
    "string = input('Enter string to check for palindrom: ')\n",
    "if string == string[::-1]:\n",
    "    print('Given string is palindrom')\n",
    "else:\n",
    "    print('Given string is not palindrom.')\n"
   ]
  },
  {
   "cell_type": "code",
   "execution_count": 28,
   "id": "5672aa8c",
   "metadata": {},
   "outputs": [
    {
     "name": "stdout",
     "output_type": "stream",
     "text": [
      "Enter string: lamala\n",
      "Given string is not palindrom.\n"
     ]
    }
   ],
   "source": [
    "string = input('Enter string: ')\n",
    "rev_str = ''.join(reversed(string))\n",
    "if string == rev_str:\n",
    "    print('Given string is palindrom')\n",
    "    \n",
    "else:\n",
    "    print('Given string is not palindrom.')"
   ]
  },
  {
   "cell_type": "code",
   "execution_count": 36,
   "id": "c4c0778c",
   "metadata": {},
   "outputs": [
    {
     "name": "stdout",
     "output_type": "stream",
     "text": [
      "Count of A is:  4\n",
      "Count of B is:  2\n",
      "Count of C is:  2\n",
      "Count of D is:  1\n"
     ]
    }
   ],
   "source": [
    "# WAP to count number of students with grade A in the following tuple\n",
    "tup = ('C','D','A','A','B','B','A','A','C')\n",
    "cnt = tup.count('A')\n",
    "print('Count of A is: ',tup.count('A'))\n",
    "print('Count of B is: ',tup.count('B'))\n",
    "print('Count of C is: ',tup.count('C'))\n",
    "print('Count of D is: ',tup.count('D'))"
   ]
  },
  {
   "cell_type": "code",
   "execution_count": 37,
   "id": "dd1fa19f",
   "metadata": {},
   "outputs": [
    {
     "name": "stdout",
     "output_type": "stream",
     "text": [
      "['A', 'A', 'A', 'A', 'B', 'B', 'C', 'C', 'D']\n"
     ]
    }
   ],
   "source": [
    "# Sort the above values\n",
    "sorted_tup = sorted(tup)\n",
    "print(sorted_tup)"
   ]
  },
  {
   "cell_type": "code",
   "execution_count": null,
   "id": "22d5b2a1",
   "metadata": {},
   "outputs": [],
   "source": []
  }
 ],
 "metadata": {
  "kernelspec": {
   "display_name": "Python 3 (ipykernel)",
   "language": "python",
   "name": "python3"
  },
  "language_info": {
   "codemirror_mode": {
    "name": "ipython",
    "version": 3
   },
   "file_extension": ".py",
   "mimetype": "text/x-python",
   "name": "python",
   "nbconvert_exporter": "python",
   "pygments_lexer": "ipython3",
   "version": "3.9.12"
  }
 },
 "nbformat": 4,
 "nbformat_minor": 5
}
