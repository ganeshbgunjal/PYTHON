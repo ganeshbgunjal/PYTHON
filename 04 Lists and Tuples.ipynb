{
 "cells": [
  {
   "cell_type": "markdown",
   "id": "290a65bf",
   "metadata": {},
   "source": [
    "### List"
   ]
  },
  {
   "cell_type": "markdown",
   "id": "cbc12190",
   "metadata": {},
   "source": [
    "list is a data structure use for storing values of any type like int float string.. <br>\n",
    "arrays of other languages are the lists in python."
   ]
  },
  {
   "cell_type": "code",
   "execution_count": 2,
   "id": "637eb460",
   "metadata": {},
   "outputs": [],
   "source": [
    "names = ['ganesh','dilip','amol']   #names of family members\n",
    "fruits = ['mangoes','apples','bananas','pineapples']"
   ]
  },
  {
   "cell_type": "code",
   "execution_count": 4,
   "id": "ceaa0bb5",
   "metadata": {},
   "outputs": [
    {
     "data": {
      "text/plain": [
       "['ganesh', 'dilip', 'amol']"
      ]
     },
     "execution_count": 4,
     "metadata": {},
     "output_type": "execute_result"
    }
   ],
   "source": [
    "names"
   ]
  },
  {
   "cell_type": "code",
   "execution_count": 5,
   "id": "2772d6fb",
   "metadata": {},
   "outputs": [
    {
     "data": {
      "text/plain": [
       "['mangoes', 'apples', 'bananas', 'pineapples']"
      ]
     },
     "execution_count": 5,
     "metadata": {},
     "output_type": "execute_result"
    }
   ],
   "source": [
    "fruits"
   ]
  },
  {
   "cell_type": "code",
   "execution_count": null,
   "id": "95a2c6e3",
   "metadata": {},
   "outputs": [],
   "source": []
  }
 ],
 "metadata": {
  "kernelspec": {
   "display_name": "Python 3 (ipykernel)",
   "language": "python",
   "name": "python3"
  },
  "language_info": {
   "codemirror_mode": {
    "name": "ipython",
    "version": 3
   },
   "file_extension": ".py",
   "mimetype": "text/x-python",
   "name": "python",
   "nbconvert_exporter": "python",
   "pygments_lexer": "ipython3",
   "version": "3.9.12"
  }
 },
 "nbformat": 4,
 "nbformat_minor": 5
}
