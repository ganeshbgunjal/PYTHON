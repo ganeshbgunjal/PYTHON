{
 "cells": [
  {
   "cell_type": "code",
   "execution_count": 1,
   "id": "2281a2dd",
   "metadata": {},
   "outputs": [],
   "source": [
    "# Strings:- is a sequence of characters\n",
    "name = \"ganesh gunjal\" \n",
    "# its a string"
   ]
  },
  {
   "cell_type": "code",
   "execution_count": 2,
   "id": "4de3db98",
   "metadata": {},
   "outputs": [],
   "source": [
    "str1 = \"this is string1 \"\n",
    "str2 = \"this is string2\"\n"
   ]
  },
  {
   "cell_type": "code",
   "execution_count": 3,
   "id": "1a5b5b21",
   "metadata": {},
   "outputs": [
    {
     "data": {
      "text/plain": [
       "'this is string1 this is string2'"
      ]
     },
     "execution_count": 3,
     "metadata": {},
     "output_type": "execute_result"
    }
   ],
   "source": [
    "str1+str2  #this is concatenation"
   ]
  },
  {
   "cell_type": "code",
   "execution_count": 4,
   "id": "cfebaf92",
   "metadata": {},
   "outputs": [
    {
     "name": "stdout",
     "output_type": "stream",
     "text": [
      "16\n",
      "15\n"
     ]
    }
   ],
   "source": [
    "print(len(str1))\n",
    "print(len(str2))"
   ]
  },
  {
   "cell_type": "code",
   "execution_count": 5,
   "id": "be9c0894",
   "metadata": {},
   "outputs": [
    {
     "name": "stdout",
     "output_type": "stream",
     "text": [
      "this is string3. \n",
      "for understanding sequence characters\n",
      "len is:  55\n"
     ]
    }
   ],
   "source": [
    "str3 = \"this is string3. \\nfor understanding sequence characters\"\n",
    "print(str3)\n",
    "print('len is: ',len(str3))"
   ]
  },
  {
   "cell_type": "code",
   "execution_count": 6,
   "id": "226817d8",
   "metadata": {},
   "outputs": [
    {
     "name": "stdout",
     "output_type": "stream",
     "text": [
      "a\n",
      "e\n"
     ]
    }
   ],
   "source": [
    "# Indexing:-- calculation of index from zero.. index always starts from ZERO, MIND it.\n",
    "\n",
    "name = \"ganesh\"\n",
    "print(name[1])\n",
    "print(name[3])"
   ]
  },
  {
   "cell_type": "code",
   "execution_count": 7,
   "id": "58505569",
   "metadata": {},
   "outputs": [
    {
     "ename": "TypeError",
     "evalue": "'str' object does not support item assignment",
     "output_type": "error",
     "traceback": [
      "\u001b[1;31m---------------------------------------------------------------------------\u001b[0m",
      "\u001b[1;31mTypeError\u001b[0m                                 Traceback (most recent call last)",
      "Input \u001b[1;32mIn [7]\u001b[0m, in \u001b[0;36m<cell line: 2>\u001b[1;34m()\u001b[0m\n\u001b[0;32m      1\u001b[0m \u001b[38;5;66;03m# item assignmetn is not allowed in strings\u001b[39;00m\n\u001b[1;32m----> 2\u001b[0m name[\u001b[38;5;241m0\u001b[39m] \u001b[38;5;241m=\u001b[39m \u001b[38;5;124m'\u001b[39m\u001b[38;5;124mm\u001b[39m\u001b[38;5;124m'\u001b[39m\n\u001b[0;32m      3\u001b[0m \u001b[38;5;28mprint\u001b[39m(name)\n",
      "\u001b[1;31mTypeError\u001b[0m: 'str' object does not support item assignment"
     ]
    }
   ],
   "source": [
    "# item assignmetn is not allowed in strings\n",
    "name[0] = 'm'\n",
    "print(name)"
   ]
  },
  {
   "cell_type": "code",
   "execution_count": 8,
   "id": "9b4960d8",
   "metadata": {},
   "outputs": [
    {
     "name": "stdout",
     "output_type": "stream",
     "text": [
      "anesh g\n"
     ]
    }
   ],
   "source": [
    "# Slicing:-- taking part from the string\n",
    "name = 'ganesh gunjal'\n",
    "print(name[1:8])   #here 1 is incusive and 6 is exclusive. empty space is also calculated"
   ]
  },
  {
   "cell_type": "code",
   "execution_count": 9,
   "id": "ddbef575",
   "metadata": {},
   "outputs": [
    {
     "name": "stdout",
     "output_type": "stream",
     "text": [
      "my name is ganesh gunjal\n",
      "len of the string is:  24\n"
     ]
    }
   ],
   "source": [
    "str1 = 'my name is ganesh gunjal'\n",
    "print(str1)\n",
    "print('len of the string is: ',len(str1))"
   ]
  },
  {
   "cell_type": "code",
   "execution_count": 11,
   "id": "07e17ab7",
   "metadata": {},
   "outputs": [
    {
     "name": "stdout",
     "output_type": "stream",
     "text": [
      "ganesh\n",
      "6\n",
      "g\n",
      "a\n"
     ]
    }
   ],
   "source": [
    "# Indexing provides numbering to characters\n",
    "str2 = 'ganesh'\n",
    "print(str2)\n",
    "print(len(str2))\n",
    "print(str2[0])\n",
    "print(str2[1])"
   ]
  },
  {
   "cell_type": "markdown",
   "id": "4b9b780e",
   "metadata": {},
   "source": [
    "### SLICING"
   ]
  },
  {
   "cell_type": "code",
   "execution_count": 12,
   "id": "ee677960",
   "metadata": {},
   "outputs": [
    {
     "name": "stdout",
     "output_type": "stream",
     "text": [
      "y nam\n"
     ]
    }
   ],
   "source": [
    "# SLICING:--- taking some piece of string\n",
    "str3 = 'my name is ganesh'\n",
    "print(str3[1:6])   #means 1 to 6 character"
   ]
  },
  {
   "cell_type": "code",
   "execution_count": 13,
   "id": "d32b8fe1",
   "metadata": {},
   "outputs": [
    {
     "name": "stdout",
     "output_type": "stream",
     "text": [
      "y name is ganesh\n"
     ]
    }
   ],
   "source": [
    "print(str3[1:])    #means 1 to last characters"
   ]
  },
  {
   "cell_type": "code",
   "execution_count": 14,
   "id": "a6d107f4",
   "metadata": {},
   "outputs": [
    {
     "name": "stdout",
     "output_type": "stream",
     "text": [
      "h\n",
      "s\n"
     ]
    }
   ],
   "source": [
    "# Negative Index in SLICING\n",
    "str4 = 'ganesh'\n",
    "print(str4[-1])\n",
    "print(str4[-2])\n",
    "\n"
   ]
  },
  {
   "cell_type": "code",
   "execution_count": 15,
   "id": "18daf868",
   "metadata": {},
   "outputs": [
    {
     "name": "stdout",
     "output_type": "stream",
     "text": [
      "es\n"
     ]
    }
   ],
   "source": [
    "print(str4[-3:-1])   #here -3 is included and -1 is excluded"
   ]
  },
  {
   "cell_type": "markdown",
   "id": "bca5340a",
   "metadata": {},
   "source": [
    "### STRING FUNCTIONS"
   ]
  },
  {
   "cell_type": "code",
   "execution_count": 16,
   "id": "dbfc23d9",
   "metadata": {},
   "outputs": [],
   "source": [
    "string = 'I am data scientist'"
   ]
  },
  {
   "cell_type": "code",
   "execution_count": 17,
   "id": "a013a9ca",
   "metadata": {},
   "outputs": [
    {
     "data": {
      "text/plain": [
       "True"
      ]
     },
     "execution_count": 17,
     "metadata": {},
     "output_type": "execute_result"
    }
   ],
   "source": [
    "string.endswith('st')   #check with ending charcters, if found returns True else false"
   ]
  },
  {
   "cell_type": "code",
   "execution_count": 18,
   "id": "25dd6011",
   "metadata": {},
   "outputs": [
    {
     "data": {
      "text/plain": [
       "'I am data scientist'"
      ]
     },
     "execution_count": 18,
     "metadata": {},
     "output_type": "execute_result"
    }
   ],
   "source": [
    "string.capitalize()   # it will make first character in capital letter"
   ]
  },
  {
   "cell_type": "code",
   "execution_count": 20,
   "id": "dfc06afd",
   "metadata": {},
   "outputs": [
    {
     "data": {
      "text/plain": [
       "'I am pro data scientist'"
      ]
     },
     "execution_count": 20,
     "metadata": {},
     "output_type": "execute_result"
    }
   ],
   "source": [
    "# string.replace(old,new)   # syntax\n",
    "string.replace('data scientist','pro data scientist')"
   ]
  },
  {
   "cell_type": "code",
   "execution_count": 22,
   "id": "294a5abf",
   "metadata": {},
   "outputs": [
    {
     "data": {
      "text/plain": [
       "5"
      ]
     },
     "execution_count": 22,
     "metadata": {},
     "output_type": "execute_result"
    }
   ],
   "source": [
    "string.find('d')   #it showed first index of 5 at first occurances."
   ]
  },
  {
   "cell_type": "code",
   "execution_count": 23,
   "id": "fd2104ba",
   "metadata": {},
   "outputs": [
    {
     "data": {
      "text/plain": [
       "3"
      ]
     },
     "execution_count": 23,
     "metadata": {},
     "output_type": "execute_result"
    }
   ],
   "source": [
    "string.count('a')"
   ]
  },
  {
   "cell_type": "code",
   "execution_count": 24,
   "id": "4885962d",
   "metadata": {},
   "outputs": [
    {
     "data": {
      "text/plain": [
       "1"
      ]
     },
     "execution_count": 24,
     "metadata": {},
     "output_type": "execute_result"
    }
   ],
   "source": [
    "string.count('data')    #it can count single character and word also "
   ]
  },
  {
   "cell_type": "code",
   "execution_count": 28,
   "id": "27460f15",
   "metadata": {},
   "outputs": [
    {
     "name": "stdout",
     "output_type": "stream",
     "text": [
      "Enter your name: ganesh\n",
      "ganesh\n",
      "len of the string is:  6\n"
     ]
    }
   ],
   "source": [
    "# WAP to input string and print its length\n",
    "name = input(\"Enter your name: \")\n",
    "print(name)\n",
    "print('len of the string is: ',len(name))"
   ]
  },
  {
   "cell_type": "code",
   "execution_count": 29,
   "id": "491e2909",
   "metadata": {},
   "outputs": [
    {
     "name": "stdout",
     "output_type": "stream",
     "text": [
      "the occurances of $ sign in the string is:  4\n"
     ]
    }
   ],
   "source": [
    "# WAP to find occurances of $ in the string\n",
    "inr = 'one $ has eighty three value in indian currency $$$'\n",
    "print('the occurances of $ sign in the string is: ',inr.count('$'))"
   ]
  },
  {
   "cell_type": "markdown",
   "id": "eabf2bd5",
   "metadata": {},
   "source": [
    "### CONDITIONAL STATEMENTS"
   ]
  },
  {
   "cell_type": "code",
   "execution_count": 33,
   "id": "766e38b5",
   "metadata": {},
   "outputs": [
    {
     "name": "stdout",
     "output_type": "stream",
     "text": [
      "you are eligible for voting and licence\n"
     ]
    }
   ],
   "source": [
    "# IF ELSEIF ELSE\n",
    "age=21\n",
    "if age >=21:\n",
    "    print('you are eligible for voting and licence')"
   ]
  },
  {
   "cell_type": "code",
   "execution_count": 34,
   "id": "238f57f2",
   "metadata": {},
   "outputs": [
    {
     "name": "stdout",
     "output_type": "stream",
     "text": [
      "you are not eligible for vote\n"
     ]
    }
   ],
   "source": [
    "if age >=22:\n",
    "    print('you are eligble for voting')\n",
    "else:\n",
    "    print('you are not eligible for vote')"
   ]
  },
  {
   "cell_type": "code",
   "execution_count": 37,
   "id": "ae475a10",
   "metadata": {},
   "outputs": [
    {
     "name": "stdout",
     "output_type": "stream",
     "text": [
      "you can go ahead\n"
     ]
    }
   ],
   "source": [
    "light = 'green'\n",
    "if light == 'yellow':\n",
    "    print('cant go ahead')\n",
    "elif light == 'red':\n",
    "    print('cant go ahead')\n",
    "elif light == 'green':\n",
    "    print('you can go ahead')\n",
    "else:\n",
    "    print('no light is detected')\n"
   ]
  },
  {
   "cell_type": "code",
   "execution_count": 41,
   "id": "0bae25e6",
   "metadata": {},
   "outputs": [
    {
     "name": "stdout",
     "output_type": "stream",
     "text": [
      "Which light you have seen: green\n",
      "you can go ahead\n"
     ]
    }
   ],
   "source": [
    "light = input('Which light you have seen: ')\n",
    "if light == 'yellow':\n",
    "    print('cant go ahead')\n",
    "elif light == 'red':\n",
    "    print('cant go ahead')\n",
    "elif light == 'green':\n",
    "    print('you can go ahead')\n",
    "else:\n",
    "    print('invalid light is detected')"
   ]
  },
  {
   "cell_type": "code",
   "execution_count": 45,
   "id": "c8d0342b",
   "metadata": {},
   "outputs": [
    {
     "name": "stdout",
     "output_type": "stream",
     "text": [
      "Enter your marks: 67\n",
      "D\n"
     ]
    }
   ],
   "source": [
    "marks = int(input('Enter your marks: '))\n",
    "if (marks >=90):\n",
    "    print('A')\n",
    "elif (marks >=80 and marks <=90):\n",
    "    print('B')\n",
    "elif (marks >=70 and marks <=80):\n",
    "    print('C')\n",
    "elif (marks >=60 and marks <=70):\n",
    "    print('D')\n",
    "else:\n",
    "    print('You Failed')"
   ]
  },
  {
   "cell_type": "markdown",
   "id": "9eeda690",
   "metadata": {},
   "source": [
    "Nesting means IF under IF. there are multiple IF statements under IF but they must be logically corrrect."
   ]
  },
  {
   "cell_type": "code",
   "execution_count": 47,
   "id": "a2e1b528",
   "metadata": {},
   "outputs": [
    {
     "name": "stdout",
     "output_type": "stream",
     "text": [
      "Enter num: 13\n",
      "number is odd\n"
     ]
    }
   ],
   "source": [
    "# WAP to check the number is even or odd entered by the user\n",
    "num = int(input('Enter num: '))\n",
    "if num%2 ==0:\n",
    "    print('number is even')\n",
    "else:\n",
    "    print('number is odd')"
   ]
  },
  {
   "cell_type": "code",
   "execution_count": 50,
   "id": "c509ac67",
   "metadata": {},
   "outputs": [
    {
     "name": "stdout",
     "output_type": "stream",
     "text": [
      "Enter num1: 12\n",
      "Enter num2: 12\n",
      "Enter num3: 14\n",
      "greatest number is:  14\n"
     ]
    }
   ],
   "source": [
    "# WAP to find out the greatest of the three numbers given by user\n",
    "num1 = int(input('Enter num1: '))\n",
    "num2 = int(input('Enter num2: '))\n",
    "num3 = int(input('Enter num3: '))\n",
    "if (num1 >num2 and num1>num3):\n",
    "    greatest = num1\n",
    "elif (num2>num1 and num2>num3):\n",
    "    greatest = num2\n",
    "else:\n",
    "    greatest = num3\n",
    "print('greatest number is: ',greatest)"
   ]
  },
  {
   "cell_type": "code",
   "execution_count": 53,
   "id": "e9938659",
   "metadata": {},
   "outputs": [
    {
     "name": "stdout",
     "output_type": "stream",
     "text": [
      "Enter num: 23\n",
      "23  is not multiple of 7\n"
     ]
    }
   ],
   "source": [
    "# WAP to check given num is multiple of 7 or not\n",
    "num= int(input('Enter num: '))\n",
    "if num%7==0:\n",
    "    print(num, ' is multiple of 7')\n",
    "else:\n",
    "    print(num, ' is not multiple of 7')"
   ]
  },
  {
   "cell_type": "code",
   "execution_count": null,
   "id": "a35d3f15",
   "metadata": {},
   "outputs": [],
   "source": [
    "n1 = int(input('Enter num1: '))\n",
    "n2 = int(input('Enter num2: '))\n",
    "n3 = int(input('Enter num3: '))\n",
    "n4 = int(input('Enter num4: '))\n",
    "if (n1>n2 and n1>n3 and n1>n4):\n",
    "    greatest = n1\n",
    "elif (n2>n1 and n2>n3 and n2>n4):\n",
    "    greatest = n2\n",
    "elif (n3>n1 and n3>n2 and n3>n4):\n",
    "    greatest = n3\n",
    "elif (n4>n1 and n4>n1 and n1>n4):\n",
    "    greatest = n4"
   ]
  }
 ],
 "metadata": {
  "kernelspec": {
   "display_name": "Python 3 (ipykernel)",
   "language": "python",
   "name": "python3"
  },
  "language_info": {
   "codemirror_mode": {
    "name": "ipython",
    "version": 3
   },
   "file_extension": ".py",
   "mimetype": "text/x-python",
   "name": "python",
   "nbconvert_exporter": "python",
   "pygments_lexer": "ipython3",
   "version": "3.9.12"
  }
 },
 "nbformat": 4,
 "nbformat_minor": 5
}
