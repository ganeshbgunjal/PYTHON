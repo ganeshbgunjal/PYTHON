{
 "cells": [
  {
   "cell_type": "code",
   "execution_count": 1,
   "id": "70744fa4",
   "metadata": {},
   "outputs": [
    {
     "name": "stdout",
     "output_type": "stream",
     "text": [
      "Hello World\n"
     ]
    }
   ],
   "source": [
    "print(\"Hello World\")\n",
    "# where print is inbuilt function"
   ]
  },
  {
   "cell_type": "code",
   "execution_count": 2,
   "id": "1f746bc6",
   "metadata": {},
   "outputs": [
    {
     "name": "stdout",
     "output_type": "stream",
     "text": [
      "Ganesh is learning AI ML to become data scientist\n"
     ]
    }
   ],
   "source": [
    "print(\"Ganesh is learning AI ML to become data scientist\")"
   ]
  },
  {
   "cell_type": "code",
   "execution_count": 3,
   "id": "c4b8e726",
   "metadata": {},
   "outputs": [
    {
     "name": "stdout",
     "output_type": "stream",
     "text": [
      "my name is ganesh. my age is 30\n"
     ]
    }
   ],
   "source": [
    "print(\"my name is ganesh.\",\"my age is 30\")"
   ]
  },
  {
   "cell_type": "code",
   "execution_count": 5,
   "id": "f6c690f2",
   "metadata": {},
   "outputs": [
    {
     "name": "stdout",
     "output_type": "stream",
     "text": [
      "my name is ganesh \n",
      "my degree is BE COMP\n"
     ]
    }
   ],
   "source": [
    "print(\"my name is ganesh\",\"\\nmy degree is BE COMP\")"
   ]
  },
  {
   "cell_type": "code",
   "execution_count": 6,
   "id": "e4f1ae25",
   "metadata": {},
   "outputs": [],
   "source": [
    "# Variable is a name given to the memory location\n",
    "# variable means whose values may changes\n",
    "name = \"ganesh\"\n",
    "value = 35\n",
    "age = 30"
   ]
  },
  {
   "cell_type": "code",
   "execution_count": 7,
   "id": "0d79c74b",
   "metadata": {},
   "outputs": [
    {
     "data": {
      "text/plain": [
       "'ganesh'"
      ]
     },
     "execution_count": 7,
     "metadata": {},
     "output_type": "execute_result"
    }
   ],
   "source": [
    "name"
   ]
  },
  {
   "cell_type": "code",
   "execution_count": 8,
   "id": "c3d2f272",
   "metadata": {},
   "outputs": [
    {
     "data": {
      "text/plain": [
       "35"
      ]
     },
     "execution_count": 8,
     "metadata": {},
     "output_type": "execute_result"
    }
   ],
   "source": [
    "value"
   ]
  },
  {
   "cell_type": "code",
   "execution_count": 9,
   "id": "25a736a2",
   "metadata": {},
   "outputs": [
    {
     "name": "stdout",
     "output_type": "stream",
     "text": [
      "<class 'str'>\n"
     ]
    }
   ],
   "source": [
    "print(type(name))"
   ]
  },
  {
   "cell_type": "code",
   "execution_count": 10,
   "id": "54bcc3d2",
   "metadata": {},
   "outputs": [
    {
     "name": "stdout",
     "output_type": "stream",
     "text": [
      "<class 'int'>\n"
     ]
    }
   ],
   "source": [
    "print(type(value))"
   ]
  },
  {
   "cell_type": "code",
   "execution_count": 11,
   "id": "ba0fcc9d",
   "metadata": {},
   "outputs": [
    {
     "name": "stdout",
     "output_type": "stream",
     "text": [
      "my name is:  ganesh\n",
      "my age is:  30\n"
     ]
    }
   ],
   "source": [
    "print('my name is: ',name)\n",
    "print('my age is: ',age)"
   ]
  },
  {
   "cell_type": "code",
   "execution_count": null,
   "id": "f4ee7778",
   "metadata": {},
   "outputs": [],
   "source": []
  }
 ],
 "metadata": {
  "kernelspec": {
   "display_name": "Python 3 (ipykernel)",
   "language": "python",
   "name": "python3"
  },
  "language_info": {
   "codemirror_mode": {
    "name": "ipython",
    "version": 3
   },
   "file_extension": ".py",
   "mimetype": "text/x-python",
   "name": "python",
   "nbconvert_exporter": "python",
   "pygments_lexer": "ipython3",
   "version": "3.9.12"
  }
 },
 "nbformat": 4,
 "nbformat_minor": 5
}
