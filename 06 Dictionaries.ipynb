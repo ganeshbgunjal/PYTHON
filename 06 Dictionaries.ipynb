{
 "cells": [
  {
   "cell_type": "markdown",
   "id": "a79bca34",
   "metadata": {},
   "source": [
    "## Dictionaries"
   ]
  },
  {
   "cell_type": "markdown",
   "id": "e080fb16",
   "metadata": {},
   "source": [
    "it saves data in key and value pair format.. <br>\n",
    "they are unordered and mutable and dont allow duplicate values <br>\n",
    "dicts has no fix index.thats why they are unordered"
   ]
  },
  {
   "cell_type": "code",
   "execution_count": 1,
   "id": "7f1bbf57",
   "metadata": {},
   "outputs": [],
   "source": [
    "# dict can store all types of data types\n",
    "info = {\n",
    "    'name':'ganesh gunjal',\n",
    "    'subjects':['Python',' C','Java'],\n",
    "    'topics':('dict','set'),\n",
    "    'age':33,\n",
    "    'is_adult' : True,\n",
    "    'marks':95\n",
    "}"
   ]
  },
  {
   "cell_type": "code",
   "execution_count": 2,
   "id": "474a7020",
   "metadata": {},
   "outputs": [
    {
     "name": "stdout",
     "output_type": "stream",
     "text": [
      "{'name': 'ganesh gunjal', 'subjects': ['Python', ' C', 'Java'], 'topics': ('dict', 'set'), 'age': 33, 'is_adult': True, 'marks': 95}\n"
     ]
    }
   ],
   "source": [
    "print(info)"
   ]
  },
  {
   "cell_type": "code",
   "execution_count": 3,
   "id": "cf921582",
   "metadata": {},
   "outputs": [
    {
     "data": {
      "text/plain": [
       "dict_keys(['name', 'subjects', 'topics', 'age', 'is_adult', 'marks'])"
      ]
     },
     "execution_count": 3,
     "metadata": {},
     "output_type": "execute_result"
    }
   ],
   "source": [
    "info.keys()"
   ]
  },
  {
   "cell_type": "code",
   "execution_count": 4,
   "id": "70f27170",
   "metadata": {},
   "outputs": [
    {
     "data": {
      "text/plain": [
       "dict_values(['ganesh gunjal', ['Python', ' C', 'Java'], ('dict', 'set'), 33, True, 95])"
      ]
     },
     "execution_count": 4,
     "metadata": {},
     "output_type": "execute_result"
    }
   ],
   "source": [
    "info.values()"
   ]
  },
  {
   "cell_type": "code",
   "execution_count": 5,
   "id": "4c995581",
   "metadata": {},
   "outputs": [
    {
     "data": {
      "text/plain": [
       "dict_items([('name', 'ganesh gunjal'), ('subjects', ['Python', ' C', 'Java']), ('topics', ('dict', 'set')), ('age', 33), ('is_adult', True), ('marks', 95)])"
      ]
     },
     "execution_count": 5,
     "metadata": {},
     "output_type": "execute_result"
    }
   ],
   "source": [
    "info.items()"
   ]
  },
  {
   "cell_type": "code",
   "execution_count": 6,
   "id": "3aea9e0d",
   "metadata": {},
   "outputs": [],
   "source": [
    "dict1 = {\n",
    "    'name' :'Ganesh',\n",
    "    'surname':'Gunjal',\n",
    "    'age':33\n",
    "}"
   ]
  },
  {
   "cell_type": "code",
   "execution_count": 7,
   "id": "ba572257",
   "metadata": {},
   "outputs": [
    {
     "data": {
      "text/plain": [
       "{'name': 'Ganesh', 'surname': 'Gunjal', 'age': 33}"
      ]
     },
     "execution_count": 7,
     "metadata": {},
     "output_type": "execute_result"
    }
   ],
   "source": [
    "dict1"
   ]
  },
  {
   "cell_type": "code",
   "execution_count": 8,
   "id": "b159a58e",
   "metadata": {},
   "outputs": [
    {
     "data": {
      "text/plain": [
       "dict"
      ]
     },
     "execution_count": 8,
     "metadata": {},
     "output_type": "execute_result"
    }
   ],
   "source": [
    "type(dict1)"
   ]
  },
  {
   "cell_type": "code",
   "execution_count": 9,
   "id": "e4178a39",
   "metadata": {},
   "outputs": [
    {
     "data": {
      "text/plain": [
       "'Ganesh'"
      ]
     },
     "execution_count": 9,
     "metadata": {},
     "output_type": "execute_result"
    }
   ],
   "source": [
    "# if we want to access elements of dict\n",
    "dict1['name']"
   ]
  },
  {
   "cell_type": "code",
   "execution_count": 10,
   "id": "fd22e3bd",
   "metadata": {},
   "outputs": [
    {
     "data": {
      "text/plain": [
       "dict_keys(['name', 'surname', 'age'])"
      ]
     },
     "execution_count": 10,
     "metadata": {},
     "output_type": "execute_result"
    }
   ],
   "source": [
    "dict1.keys()"
   ]
  },
  {
   "cell_type": "code",
   "execution_count": 11,
   "id": "1041d70f",
   "metadata": {},
   "outputs": [
    {
     "data": {
      "text/plain": [
       "dict_values(['Ganesh', 'Gunjal', 33])"
      ]
     },
     "execution_count": 11,
     "metadata": {},
     "output_type": "execute_result"
    }
   ],
   "source": [
    "dict1.values()"
   ]
  },
  {
   "cell_type": "code",
   "execution_count": 12,
   "id": "003a55e2",
   "metadata": {},
   "outputs": [
    {
     "data": {
      "text/plain": [
       "dict_items([('name', 'Ganesh'), ('surname', 'Gunjal'), ('age', 33)])"
      ]
     },
     "execution_count": 12,
     "metadata": {},
     "output_type": "execute_result"
    }
   ],
   "source": [
    "dict1.items()"
   ]
  },
  {
   "cell_type": "code",
   "execution_count": 16,
   "id": "88167d72",
   "metadata": {},
   "outputs": [],
   "source": [
    "dup_key = {\n",
    "    'name' : 'ganesh',\n",
    "    'name' :'ganaa',\n",
    "    'age':33\n",
    "}"
   ]
  },
  {
   "cell_type": "code",
   "execution_count": 17,
   "id": "c979ce83",
   "metadata": {},
   "outputs": [
    {
     "name": "stdout",
     "output_type": "stream",
     "text": [
      "{'name': 'ganaa', 'age': 33}\n"
     ]
    }
   ],
   "source": [
    "print(dup_key)"
   ]
  },
  {
   "cell_type": "markdown",
   "id": "c5453854",
   "metadata": {},
   "source": [
    "### Nested dictionaries:-\n",
    "Dict inside dict"
   ]
  },
  {
   "cell_type": "code",
   "execution_count": 19,
   "id": "611bae1b",
   "metadata": {},
   "outputs": [],
   "source": [
    "student = {\n",
    "    'Name':'Ganesh',\n",
    "    'Surname':'Gunjal',\n",
    "    'Marks': {\n",
    "            'Phy':97,\n",
    "            'Chem':94,\n",
    "            'Bio':96\n",
    "            },\n",
    "    'Age':32\n",
    "}"
   ]
  },
  {
   "cell_type": "code",
   "execution_count": 20,
   "id": "949e75f2",
   "metadata": {},
   "outputs": [
    {
     "name": "stdout",
     "output_type": "stream",
     "text": [
      "{'Name': 'Ganesh', 'Surname': 'Gunjal', 'Marks': {'Phy': 97, 'Chem': 94, 'Bio': 96}, 'Age': 32}\n"
     ]
    }
   ],
   "source": [
    "print(student)"
   ]
  },
  {
   "cell_type": "code",
   "execution_count": 25,
   "id": "1ba67cae",
   "metadata": {},
   "outputs": [
    {
     "data": {
      "text/plain": [
       "{'Phy': 97, 'Chem': 94, 'Bio': 96}"
      ]
     },
     "execution_count": 25,
     "metadata": {},
     "output_type": "execute_result"
    }
   ],
   "source": [
    "student['Marks']"
   ]
  },
  {
   "cell_type": "code",
   "execution_count": 26,
   "id": "105340d5",
   "metadata": {},
   "outputs": [
    {
     "data": {
      "text/plain": [
       "96"
      ]
     },
     "execution_count": 26,
     "metadata": {},
     "output_type": "execute_result"
    }
   ],
   "source": [
    "student['Marks']['Bio']   #accessing specific sub marks"
   ]
  },
  {
   "cell_type": "code",
   "execution_count": 21,
   "id": "6667c6c2",
   "metadata": {},
   "outputs": [
    {
     "name": "stdout",
     "output_type": "stream",
     "text": [
      "dict_keys(['Name', 'Surname', 'Marks', 'Age'])\n"
     ]
    }
   ],
   "source": [
    "print(student.keys())"
   ]
  },
  {
   "cell_type": "code",
   "execution_count": 22,
   "id": "0412a8b8",
   "metadata": {},
   "outputs": [
    {
     "name": "stdout",
     "output_type": "stream",
     "text": [
      "dict_values(['Ganesh', 'Gunjal', {'Phy': 97, 'Chem': 94, 'Bio': 96}, 32])\n"
     ]
    }
   ],
   "source": [
    "print(student.values())"
   ]
  },
  {
   "cell_type": "code",
   "execution_count": 23,
   "id": "2ecdc243",
   "metadata": {},
   "outputs": [
    {
     "name": "stdout",
     "output_type": "stream",
     "text": [
      "dict_items([('Name', 'Ganesh'), ('Surname', 'Gunjal'), ('Marks', {'Phy': 97, 'Chem': 94, 'Bio': 96}), ('Age', 32)])\n"
     ]
    }
   ],
   "source": [
    "print(student.items())"
   ]
  },
  {
   "cell_type": "markdown",
   "id": "2d40a072",
   "metadata": {},
   "source": [
    "### Dictionaries Methods:\n",
    "    This methods are specific for Dictinaries. thats why they are called as methods and not functions."
   ]
  },
  {
   "cell_type": "code",
   "execution_count": 27,
   "id": "dece1333",
   "metadata": {},
   "outputs": [
    {
     "data": {
      "text/plain": [
       "dict_keys(['Name', 'Surname', 'Marks', 'Age'])"
      ]
     },
     "execution_count": 27,
     "metadata": {},
     "output_type": "execute_result"
    }
   ],
   "source": [
    "# 1)\n",
    "student.keys()   #this method gives only keys present in the dict"
   ]
  },
  {
   "cell_type": "code",
   "execution_count": 28,
   "id": "beb41b70",
   "metadata": {},
   "outputs": [
    {
     "data": {
      "text/plain": [
       "dict_values(['Ganesh', 'Gunjal', {'Phy': 97, 'Chem': 94, 'Bio': 96}, 32])"
      ]
     },
     "execution_count": 28,
     "metadata": {},
     "output_type": "execute_result"
    }
   ],
   "source": [
    "# 2\n",
    "student.values()    #this method gives values present the dict"
   ]
  },
  {
   "cell_type": "code",
   "execution_count": 29,
   "id": "2b1ba4c8",
   "metadata": {},
   "outputs": [
    {
     "data": {
      "text/plain": [
       "dict_items([('Name', 'Ganesh'), ('Surname', 'Gunjal'), ('Marks', {'Phy': 97, 'Chem': 94, 'Bio': 96}), ('Age', 32)])"
      ]
     },
     "execution_count": 29,
     "metadata": {},
     "output_type": "execute_result"
    }
   ],
   "source": [
    "# 3\n",
    "student.items()    #this method gives key and values pair"
   ]
  },
  {
   "cell_type": "code",
   "execution_count": 32,
   "id": "a72f1862",
   "metadata": {},
   "outputs": [
    {
     "data": {
      "text/plain": [
       "'Ganesh'"
      ]
     },
     "execution_count": 32,
     "metadata": {},
     "output_type": "execute_result"
    }
   ],
   "source": [
    "# 4\n",
    "student.get('Name') \n"
   ]
  },
  {
   "cell_type": "code",
   "execution_count": 33,
   "id": "71ce6f84",
   "metadata": {},
   "outputs": [],
   "source": [
    "student.get('village')  \n",
    "#it gives none when there is no key or values present in the dict. it wont show error but gives output if present.\n",
    "# advantage is it gives output even if error is there. it will say none for the error and gives remaining output"
   ]
  },
  {
   "cell_type": "code",
   "execution_count": 34,
   "id": "aa565f01",
   "metadata": {},
   "outputs": [],
   "source": [
    "# 5\n",
    "student.update({'Village':'Panchakeshwar'})   #it will add at the last of dict"
   ]
  },
  {
   "cell_type": "code",
   "execution_count": 35,
   "id": "ba51e8b6",
   "metadata": {},
   "outputs": [
    {
     "data": {
      "text/plain": [
       "{'Name': 'Ganesh',\n",
       " 'Surname': 'Gunjal',\n",
       " 'Marks': {'Phy': 97, 'Chem': 94, 'Bio': 96},\n",
       " 'Age': 32,\n",
       " 'Village': 'Panchakeshwar'}"
      ]
     },
     "execution_count": 35,
     "metadata": {},
     "output_type": "execute_result"
    }
   ],
   "source": [
    "student"
   ]
  },
  {
   "cell_type": "code",
   "execution_count": null,
   "id": "ed133733",
   "metadata": {},
   "outputs": [],
   "source": [
    "time 26:00"
   ]
  }
 ],
 "metadata": {
  "kernelspec": {
   "display_name": "Python 3 (ipykernel)",
   "language": "python",
   "name": "python3"
  },
  "language_info": {
   "codemirror_mode": {
    "name": "ipython",
    "version": 3
   },
   "file_extension": ".py",
   "mimetype": "text/x-python",
   "name": "python",
   "nbconvert_exporter": "python",
   "pygments_lexer": "ipython3",
   "version": "3.9.12"
  }
 },
 "nbformat": 4,
 "nbformat_minor": 5
}
