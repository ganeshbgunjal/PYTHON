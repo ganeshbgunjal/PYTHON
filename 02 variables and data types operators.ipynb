{
 "cells": [
  {
   "cell_type": "code",
   "execution_count": 1,
   "id": "319ab62d",
   "metadata": {},
   "outputs": [],
   "source": [
    "# variable:- name given to memory location\n",
    "# identifier:- name given to variable or function"
   ]
  },
  {
   "cell_type": "code",
   "execution_count": 2,
   "id": "82493f45",
   "metadata": {},
   "outputs": [
    {
     "name": "stdout",
     "output_type": "stream",
     "text": [
      "Hello World\n"
     ]
    }
   ],
   "source": [
    "print(\"Hello World\")\n",
    "# where print is inbuilt function"
   ]
  },
  {
   "cell_type": "code",
   "execution_count": 3,
   "id": "0bc3f2a8",
   "metadata": {},
   "outputs": [
    {
     "name": "stdout",
     "output_type": "stream",
     "text": [
      "Ganesh is learning AI ML to become data scientist\n"
     ]
    }
   ],
   "source": [
    "print(\"Ganesh is learning AI ML to become data scientist\")"
   ]
  },
  {
   "cell_type": "code",
   "execution_count": 4,
   "id": "6b8d39c7",
   "metadata": {},
   "outputs": [
    {
     "name": "stdout",
     "output_type": "stream",
     "text": [
      "my name is ganesh. my age is 30\n"
     ]
    }
   ],
   "source": [
    "print(\"my name is ganesh.\",\"my age is 30\")"
   ]
  },
  {
   "cell_type": "code",
   "execution_count": 5,
   "id": "15366e30",
   "metadata": {},
   "outputs": [
    {
     "name": "stdout",
     "output_type": "stream",
     "text": [
      "my name is ganesh \n",
      "my degree is BE COMP\n"
     ]
    }
   ],
   "source": [
    "print(\"my name is ganesh\",\"\\nmy degree is BE COMP\")"
   ]
  },
  {
   "cell_type": "code",
   "execution_count": 6,
   "id": "ef6da796",
   "metadata": {},
   "outputs": [],
   "source": [
    "# Variable is a name given to the memory location\n",
    "# variable means whose values may changes\n",
    "name = \"ganesh\"\n",
    "value = 35\n",
    "age = 30"
   ]
  },
  {
   "cell_type": "code",
   "execution_count": 7,
   "id": "249289e0",
   "metadata": {},
   "outputs": [
    {
     "data": {
      "text/plain": [
       "'ganesh'"
      ]
     },
     "execution_count": 7,
     "metadata": {},
     "output_type": "execute_result"
    }
   ],
   "source": [
    "name"
   ]
  },
  {
   "cell_type": "code",
   "execution_count": 8,
   "id": "040eaf83",
   "metadata": {},
   "outputs": [
    {
     "data": {
      "text/plain": [
       "35"
      ]
     },
     "execution_count": 8,
     "metadata": {},
     "output_type": "execute_result"
    }
   ],
   "source": [
    "value"
   ]
  },
  {
   "cell_type": "code",
   "execution_count": 9,
   "id": "c6620352",
   "metadata": {},
   "outputs": [
    {
     "name": "stdout",
     "output_type": "stream",
     "text": [
      "<class 'str'>\n"
     ]
    }
   ],
   "source": [
    "print(type(name))"
   ]
  },
  {
   "cell_type": "code",
   "execution_count": 10,
   "id": "1e0220eb",
   "metadata": {},
   "outputs": [
    {
     "name": "stdout",
     "output_type": "stream",
     "text": [
      "<class 'int'>\n"
     ]
    }
   ],
   "source": [
    "print(type(value))"
   ]
  },
  {
   "cell_type": "code",
   "execution_count": 11,
   "id": "8635c3dc",
   "metadata": {},
   "outputs": [
    {
     "name": "stdout",
     "output_type": "stream",
     "text": [
      "my name is:  ganesh\n",
      "my age is:  30\n"
     ]
    }
   ],
   "source": [
    "print('my name is: ',name)\n",
    "print('my age is: ',age)"
   ]
  },
  {
   "cell_type": "code",
   "execution_count": 12,
   "id": "f3c4a8c4",
   "metadata": {},
   "outputs": [],
   "source": [
    "# Identifier: can be anything name. but will not start with digit. it wont contain special characters. its length can be \n",
    "# anything\n",
    "# name of variable always simple short and meaningful. this is indentity of good programmer."
   ]
  },
  {
   "cell_type": "code",
   "execution_count": 13,
   "id": "83448144",
   "metadata": {},
   "outputs": [],
   "source": [
    "# datatypes: type of data enters into variable or stored in the variable\n",
    "# 1 string\n",
    "# 2 int\n",
    "# 3 boolean\n",
    "# 4 float\n",
    "# 5 boolean\n",
    "# 6 None"
   ]
  },
  {
   "cell_type": "code",
   "execution_count": 14,
   "id": "b6248ca3",
   "metadata": {},
   "outputs": [],
   "source": [
    "# 1 intergers: \n",
    "#     it contains positive value, negative value and zero.\n",
    "#     eg -25,25,0b"
   ]
  },
  {
   "cell_type": "code",
   "execution_count": 15,
   "id": "e52d0155",
   "metadata": {},
   "outputs": [],
   "source": [
    "# 2 string:--- \n",
    "#     'ganesh','a','sdkufkd','this is type string'"
   ]
  },
  {
   "cell_type": "code",
   "execution_count": 16,
   "id": "457fb829",
   "metadata": {},
   "outputs": [],
   "source": [
    "# 3 float:-- 25.88"
   ]
  },
  {
   "cell_type": "code",
   "execution_count": 17,
   "id": "599ffbe9",
   "metadata": {},
   "outputs": [],
   "source": [
    "# 4 boolean:--- True False"
   ]
  },
  {
   "cell_type": "code",
   "execution_count": 18,
   "id": "28558383",
   "metadata": {},
   "outputs": [],
   "source": [
    "a=25\n",
    "b=\"None\"\n",
    "c=None"
   ]
  },
  {
   "cell_type": "code",
   "execution_count": 19,
   "id": "4e83f721",
   "metadata": {},
   "outputs": [
    {
     "name": "stdout",
     "output_type": "stream",
     "text": [
      "25\n",
      "None\n",
      "None\n"
     ]
    }
   ],
   "source": [
    "print(a)\n",
    "print(b)\n",
    "print(c)"
   ]
  },
  {
   "cell_type": "code",
   "execution_count": 20,
   "id": "f9e868d0",
   "metadata": {},
   "outputs": [
    {
     "name": "stdout",
     "output_type": "stream",
     "text": [
      "<class 'int'>\n",
      "<class 'str'>\n",
      "<class 'NoneType'>\n"
     ]
    }
   ],
   "source": [
    "print(type(a))\n",
    "print(type(b))\n",
    "print(type(c))"
   ]
  },
  {
   "cell_type": "code",
   "execution_count": 24,
   "id": "6f32ed66",
   "metadata": {},
   "outputs": [
    {
     "name": "stdout",
     "output_type": "stream",
     "text": [
      "['False', 'None', 'True', '__peg_parser__', 'and', 'as', 'assert', 'async', 'await', 'break', 'class', 'continue', 'def', 'del', 'elif', 'else', 'except', 'finally', 'for', 'from', 'global', 'if', 'import', 'in', 'is', 'lambda', 'nonlocal', 'not', 'or', 'pass', 'raise', 'return', 'try', 'while', 'with', 'yield']\n",
      "keywords present in the python:  36\n"
     ]
    }
   ],
   "source": [
    "# Keywords are the reserved words present in python. they will not use as identifier.\n",
    "import keyword\n",
    "print(keyword.kwlist)\n",
    "print('keywords present in the python: ',len(keyword.kwlist))"
   ]
  },
  {
   "cell_type": "code",
   "execution_count": 25,
   "id": "9f9f0932",
   "metadata": {},
   "outputs": [
    {
     "name": "stdout",
     "output_type": "stream",
     "text": [
      "4\n"
     ]
    }
   ],
   "source": [
    "# print sum of two numbers\n",
    "print(2+2)"
   ]
  },
  {
   "cell_type": "code",
   "execution_count": 27,
   "id": "0d8bc16a",
   "metadata": {},
   "outputs": [
    {
     "name": "stdout",
     "output_type": "stream",
     "text": [
      "Enter first num: 4\n",
      "Enter secind num: 4\n",
      "addition is:  8\n"
     ]
    }
   ],
   "source": [
    "a = int(input(\"Enter first num: \"))\n",
    "b = int(input(\"Enter secind num: \"))\n",
    "res = a+b\n",
    "print('addition is: ',res)"
   ]
  },
  {
   "cell_type": "code",
   "execution_count": 29,
   "id": "a3eec02d",
   "metadata": {},
   "outputs": [],
   "source": [
    "# Comments:-- comment is a text or code that IDE dont read.\n"
   ]
  },
  {
   "cell_type": "code",
   "execution_count": 30,
   "id": "c0a0cba9",
   "metadata": {},
   "outputs": [],
   "source": [
    "# this is single line comment:-\n",
    "# \"\"\" this is multiple line comment\"\"\""
   ]
  },
  {
   "cell_type": "code",
   "execution_count": 31,
   "id": "b982114d",
   "metadata": {},
   "outputs": [],
   "source": [
    "# Operator:-- its a symbol that operatos in symbols\n",
    "# 1 arithmatic operator:- + - * \\ % ** are the some arithmatic operators\n",
    "# 2 relational or comparison operators:-  == != < > <= >=\n",
    "# 3 assignment operators:-- = "
   ]
  },
  {
   "cell_type": "code",
   "execution_count": 36,
   "id": "9ef6698e",
   "metadata": {},
   "outputs": [
    {
     "name": "stdout",
     "output_type": "stream",
     "text": [
      "addition:  7\n",
      "sub : 3\n",
      "multiplication is:  10\n",
      "power is:  25\n",
      "2.5\n",
      "1\n"
     ]
    }
   ],
   "source": [
    "# 1 Arithmatic Operators:- \n",
    "a=5\n",
    "b=2\n",
    "print('addition: ',a+b)\n",
    "print('sub :',a-b)\n",
    "print('multiplication is: ',a*b)\n",
    "print('power is: ',a**b)  #this is power operator\n",
    "print(a/b)\n",
    "print(a%b)   #this is modulo operator. it gives remainder"
   ]
  },
  {
   "cell_type": "code",
   "execution_count": 39,
   "id": "7b69f47b",
   "metadata": {},
   "outputs": [
    {
     "name": "stdout",
     "output_type": "stream",
     "text": [
      "False\n",
      "True\n",
      "True\n",
      "False\n"
     ]
    }
   ],
   "source": [
    "# 2  relational or comparison operators:\n",
    "a = 50\n",
    "b = 60\n",
    "print(a==b)\n",
    "print(a!=b)\n",
    "print(a<b)\n",
    "print(a>b)"
   ]
  },
  {
   "cell_type": "code",
   "execution_count": 43,
   "id": "8046f897",
   "metadata": {},
   "outputs": [
    {
     "name": "stdout",
     "output_type": "stream",
     "text": [
      "60\n",
      "60\n"
     ]
    }
   ],
   "source": [
    "# 3. Assignment operators:-    =,+=,-=,*=,/=\n",
    "a=50\n",
    "b=60\n",
    "\n",
    "a+=10\n",
    "print(a)\n",
    "print(a)"
   ]
  },
  {
   "cell_type": "code",
   "execution_count": 51,
   "id": "e881b8d5",
   "metadata": {},
   "outputs": [
    {
     "name": "stdout",
     "output_type": "stream",
     "text": [
      "AND operator:  False\n"
     ]
    }
   ],
   "source": [
    "# 4. logical Operators:- \n",
    "# AND OR NOT\n",
    "\n",
    "val1 = True\n",
    "val2 = False\n",
    "print('AND operator: ', val1 and val2)\n"
   ]
  },
  {
   "cell_type": "code",
   "execution_count": 52,
   "id": "c8baaa94",
   "metadata": {},
   "outputs": [
    {
     "name": "stdout",
     "output_type": "stream",
     "text": [
      "OR operator:  True\n"
     ]
    }
   ],
   "source": [
    "val1 = True\n",
    "val2 = False\n",
    "print('OR operator: ', val1 or val2)"
   ]
  },
  {
   "cell_type": "code",
   "execution_count": 53,
   "id": "7805bc4d",
   "metadata": {},
   "outputs": [],
   "source": [
    "# Type Conversion:-- \n",
    "#     int to str\n",
    "#     str to int\n",
    "#     int to float \n",
    "#     such scenario is called as type conversion\n",
    "\n",
    "# conversion done by python interpriter. \n",
    "# casting is done by manuaaly. \n",
    "\n",
    "# float is superior as it gives more value\n"
   ]
  },
  {
   "cell_type": "code",
   "execution_count": 54,
   "id": "830b6d03",
   "metadata": {},
   "outputs": [
    {
     "name": "stdout",
     "output_type": "stream",
     "text": [
      "5.5\n"
     ]
    }
   ],
   "source": [
    "a=2\n",
    "b=3.5\n",
    "sum = a+b\n",
    "print(sum)  #here type conversion is takes place. interpriter did conversion by its own."
   ]
  },
  {
   "cell_type": "code",
   "execution_count": 56,
   "id": "3b0e3cce",
   "metadata": {},
   "outputs": [
    {
     "name": "stdout",
     "output_type": "stream",
     "text": [
      "4\n"
     ]
    }
   ],
   "source": [
    "a='2'\n",
    "c = int(a)\n",
    "b=2\n",
    "\n",
    "print(b+c)  #here type casting is done. a is converted to int manually.\n",
    "\n",
    "\n",
    "# float(a)  is a type casting and soo on"
   ]
  },
  {
   "cell_type": "code",
   "execution_count": 57,
   "id": "7bcc72f0",
   "metadata": {},
   "outputs": [
    {
     "name": "stdout",
     "output_type": "stream",
     "text": [
      "Enter value: jjas\n",
      "jjas\n"
     ]
    }
   ],
   "source": [
    "# Input:\n",
    "#     this is used when program is going to run\n",
    "\n",
    "a=input(\"Enter value: \")\n",
    "print(a)"
   ]
  },
  {
   "cell_type": "code",
   "execution_count": 58,
   "id": "b9ac4e0f",
   "metadata": {},
   "outputs": [
    {
     "name": "stdout",
     "output_type": "stream",
     "text": [
      "Enter value: 23\n",
      "23\n",
      "<class 'int'>\n"
     ]
    }
   ],
   "source": [
    "b=int(input(\"Enter value: \"))\n",
    "print(b)\n",
    "print(type(b))"
   ]
  },
  {
   "cell_type": "code",
   "execution_count": 62,
   "id": "36fbe610",
   "metadata": {},
   "outputs": [
    {
     "name": "stdout",
     "output_type": "stream",
     "text": [
      "enter name: ganesh\n",
      "enter age: 33\n",
      "enter marks: 33.3\n",
      "<class 'str'> ganesh\n",
      "<class 'int'> 33\n",
      "<class 'float'> 33.3\n"
     ]
    }
   ],
   "source": [
    "name = input('enter name: ')\n",
    "age = int(input('enter age: '))\n",
    "marks = float(input('enter marks: '))\n",
    "\n",
    "\n",
    "print(type(name),name)\n",
    "print(type(age),age)\n",
    "print(type(marks),marks)"
   ]
  },
  {
   "cell_type": "code",
   "execution_count": 63,
   "id": "9e8e831e",
   "metadata": {},
   "outputs": [
    {
     "name": "stdout",
     "output_type": "stream",
     "text": [
      "Enter num 1: 3\n",
      "Enter num 2: 3\n",
      "6\n"
     ]
    }
   ],
   "source": [
    "#write a progrm to add 2 numbers and print them\n",
    "a = int(input(\"Enter num 1: \"))\n",
    "b = int(input(\"Enter num 2: \"))\n",
    "addition = a+b\n",
    "print(addition)"
   ]
  },
  {
   "cell_type": "code",
   "execution_count": 65,
   "id": "ef204167",
   "metadata": {},
   "outputs": [
    {
     "name": "stdout",
     "output_type": "stream",
     "text": [
      "enter side of suare: 10\n",
      "100\n"
     ]
    }
   ],
   "source": [
    "# take input side of square and print its area\n",
    "a = int(input('enter side of suare: '))\n",
    "area = a**2\n",
    "print(area)"
   ]
  },
  {
   "cell_type": "code",
   "execution_count": 67,
   "id": "243bd06a",
   "metadata": {},
   "outputs": [
    {
     "name": "stdout",
     "output_type": "stream",
     "text": [
      "enter num1: 34\n",
      "enter num2: 45\n",
      "39.5\n"
     ]
    }
   ],
   "source": [
    "# \n",
    "num1 = float(input('enter num1: '))\n",
    "num2 = float(input('enter num2: '))\n",
    "avg = (num1+num2)/2\n",
    "print(avg)"
   ]
  },
  {
   "cell_type": "code",
   "execution_count": 68,
   "id": "dd89eb0b",
   "metadata": {},
   "outputs": [
    {
     "name": "stdout",
     "output_type": "stream",
     "text": [
      "enter num1: 4\n",
      "enter num2: 7\n",
      "False\n"
     ]
    }
   ],
   "source": [
    "# take 2 inputs and print true is a equal or greater than b. else false\n",
    "a= int(input('enter num1: '))\n",
    "b= int(input('enter num2: '))\n",
    "if a >b:\n",
    "    print(\"True\")\n",
    "else:\n",
    "    print(\"False\")"
   ]
  },
  {
   "cell_type": "code",
   "execution_count": null,
   "id": "74d556ab",
   "metadata": {},
   "outputs": [],
   "source": []
  }
 ],
 "metadata": {
  "kernelspec": {
   "display_name": "Python 3 (ipykernel)",
   "language": "python",
   "name": "python3"
  },
  "language_info": {
   "codemirror_mode": {
    "name": "ipython",
    "version": 3
   },
   "file_extension": ".py",
   "mimetype": "text/x-python",
   "name": "python",
   "nbconvert_exporter": "python",
   "pygments_lexer": "ipython3",
   "version": "3.9.12"
  }
 },
 "nbformat": 4,
 "nbformat_minor": 5
}
