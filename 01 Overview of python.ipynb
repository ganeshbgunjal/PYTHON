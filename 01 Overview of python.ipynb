{
 "cells": [
  {
   "cell_type": "markdown",
   "id": "bb9ebc13",
   "metadata": {},
   "source": [
    "Python is used everywhere nowadays. used in machine learning, web devepoment, desktop app develpement. <br>\n",
    "python has introduced in 1991 by guido van rossum. <br>\n",
    "\n",
    "in coding we have machine and program.. through code we give instruction to machien to perform certain task. <br>\n",
    "translator works as langauge translator. it converts high level language code machine language.\n",
    "machine level languages or low level languages."
   ]
  },
  {
   "cell_type": "markdown",
   "id": "be9db7e7",
   "metadata": {},
   "source": [
    "what is python:-- \n",
    "1. easy to learn and simple.\n",
    "2. its open source and free language. everyone can use it.\n",
    "3. high level language\n",
    "4. its porable means can work on windows or mac.\n",
    "5. python is versatile language. we can use in ML, game dev, web dev."
   ]
  },
  {
   "cell_type": "code",
   "execution_count": null,
   "id": "933aa0c6",
   "metadata": {},
   "outputs": [],
   "source": []
  }
 ],
 "metadata": {
  "kernelspec": {
   "display_name": "Python 3 (ipykernel)",
   "language": "python",
   "name": "python3"
  },
  "language_info": {
   "codemirror_mode": {
    "name": "ipython",
    "version": 3
   },
   "file_extension": ".py",
   "mimetype": "text/x-python",
   "name": "python",
   "nbconvert_exporter": "python",
   "pygments_lexer": "ipython3",
   "version": "3.9.12"
  }
 },
 "nbformat": 4,
 "nbformat_minor": 5
}
